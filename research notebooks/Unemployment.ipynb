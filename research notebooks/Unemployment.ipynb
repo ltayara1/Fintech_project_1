{
 "cells": [
  {
   "cell_type": "code",
   "execution_count": 96,
   "metadata": {},
   "outputs": [],
   "source": [
    "# initial imports\n",
    "import os\n",
    "import pandas as pd\n",
    "import panel as pn\n",
    "pn.extension('plotly')\n",
    "import plotly.express as px\n",
    "from pathlib import Path\n",
    "from dotenv import load_dotenv\n",
    "from panel.interact import interact\n",
    "from panel import widgets\n",
    "import hvplot.pandas"
   ]
  },
  {
   "cell_type": "code",
   "execution_count": 97,
   "metadata": {},
   "outputs": [],
   "source": [
    "# Import the CSVs to Pandas DataFrames\n",
    "unemployment_path = Path(\"./Resources/UNEMPLOYMENT_RATE.csv\")\n",
    "unemployment_data = pd.read_csv(unemployment_path, index_col=\"Date\", infer_datetime_format=True, parse_dates=True)"
   ]
  },
  {
   "cell_type": "code",
   "execution_count": 98,
   "metadata": {},
   "outputs": [
    {
     "data": {
      "text/html": [
       "<div>\n",
       "<style scoped>\n",
       "    .dataframe tbody tr th:only-of-type {\n",
       "        vertical-align: middle;\n",
       "    }\n",
       "\n",
       "    .dataframe tbody tr th {\n",
       "        vertical-align: top;\n",
       "    }\n",
       "\n",
       "    .dataframe thead th {\n",
       "        text-align: right;\n",
       "    }\n",
       "</style>\n",
       "<table border=\"1\" class=\"dataframe\">\n",
       "  <thead>\n",
       "    <tr style=\"text-align: right;\">\n",
       "      <th></th>\n",
       "      <th>Unemployment</th>\n",
       "    </tr>\n",
       "    <tr>\n",
       "      <th>Date</th>\n",
       "      <th></th>\n",
       "    </tr>\n",
       "  </thead>\n",
       "  <tbody>\n",
       "    <tr>\n",
       "      <th>1981-01-01</th>\n",
       "      <td>7.5</td>\n",
       "    </tr>\n",
       "    <tr>\n",
       "      <th>1981-02-01</th>\n",
       "      <td>7.4</td>\n",
       "    </tr>\n",
       "    <tr>\n",
       "      <th>1981-03-01</th>\n",
       "      <td>7.4</td>\n",
       "    </tr>\n",
       "    <tr>\n",
       "      <th>1981-04-01</th>\n",
       "      <td>7.2</td>\n",
       "    </tr>\n",
       "    <tr>\n",
       "      <th>1981-05-01</th>\n",
       "      <td>7.5</td>\n",
       "    </tr>\n",
       "  </tbody>\n",
       "</table>\n",
       "</div>"
      ],
      "text/plain": [
       "            Unemployment\n",
       "Date                    \n",
       "1981-01-01           7.5\n",
       "1981-02-01           7.4\n",
       "1981-03-01           7.4\n",
       "1981-04-01           7.2\n",
       "1981-05-01           7.5"
      ]
     },
     "execution_count": 98,
     "metadata": {},
     "output_type": "execute_result"
    }
   ],
   "source": [
    "unemployment_data.head()"
   ]
  },
  {
   "cell_type": "code",
   "execution_count": 99,
   "metadata": {},
   "outputs": [],
   "source": [
    "unemployment_data = unemployment_data.iloc[0:476:12]"
   ]
  },
  {
   "cell_type": "code",
   "execution_count": 100,
   "metadata": {},
   "outputs": [
    {
     "data": {
      "application/vnd.holoviews_exec.v0+json": "",
      "text/html": [
       "<div id='5537'>\n",
       "\n",
       "\n",
       "\n",
       "\n",
       "\n",
       "  <div class=\"bk-root\" id=\"08f6a788-e6e7-4fc3-9531-087cde04203b\" data-root-id=\"5537\"></div>\n",
       "</div>\n",
       "<script type=\"application/javascript\">(function(root) {\n",
       "  function embed_document(root) {\n",
       "  var docs_json = {\"9186dfee-c2e3-48f6-a865-9ab2e328ea14\":{\"roots\":{\"references\":[{\"attributes\":{\"margin\":[5,5,5,5],\"name\":\"HSpacer05753\",\"sizing_mode\":\"stretch_width\"},\"id\":\"5538\",\"type\":\"Spacer\"},{\"attributes\":{\"line_alpha\":0.2,\"line_color\":\"aqua\",\"line_width\":2,\"x\":{\"field\":\"Date\"},\"y\":{\"field\":\"Unemployment\"}},\"id\":\"5577\",\"type\":\"Line\"},{\"attributes\":{\"end\":1577836800000.0,\"reset_end\":1577836800000.0,\"reset_start\":347155200000.0,\"start\":347155200000.0,\"tags\":[[[\"Date\",\"Date\",null]]]},\"id\":\"5539\",\"type\":\"Range1d\"},{\"attributes\":{\"num_minor_ticks\":5,\"tickers\":[{\"id\":\"5592\"},{\"id\":\"5593\"},{\"id\":\"5594\"},{\"id\":\"5595\"},{\"id\":\"5596\"},{\"id\":\"5597\"},{\"id\":\"5598\"},{\"id\":\"5599\"},{\"id\":\"5600\"},{\"id\":\"5601\"},{\"id\":\"5602\"},{\"id\":\"5603\"}]},\"id\":\"5552\",\"type\":\"DatetimeTicker\"},{\"attributes\":{},\"id\":\"5581\",\"type\":\"DatetimeTickFormatter\"},{\"attributes\":{\"months\":[0,2,4,6,8,10]},\"id\":\"5600\",\"type\":\"MonthsTicker\"},{\"attributes\":{\"margin\":[5,5,5,5],\"name\":\"HSpacer05754\",\"sizing_mode\":\"stretch_width\"},\"id\":\"5624\",\"type\":\"Spacer\"},{\"attributes\":{\"bottom_units\":\"screen\",\"fill_alpha\":0.5,\"fill_color\":\"lightgrey\",\"left_units\":\"screen\",\"level\":\"overlay\",\"line_alpha\":1.0,\"line_color\":\"black\",\"line_dash\":[4,4],\"line_width\":2,\"right_units\":\"screen\",\"top_units\":\"screen\"},\"id\":\"5564\",\"type\":\"BoxAnnotation\"},{\"attributes\":{\"active_drag\":\"auto\",\"active_inspect\":\"auto\",\"active_multi\":null,\"active_scroll\":\"auto\",\"active_tap\":\"auto\",\"tools\":[{\"id\":\"5541\"},{\"id\":\"5559\"},{\"id\":\"5560\"},{\"id\":\"5561\"},{\"id\":\"5562\"},{\"id\":\"5563\"}]},\"id\":\"5565\",\"type\":\"Toolbar\"},{\"attributes\":{\"axis\":{\"id\":\"5551\"},\"grid_line_color\":null,\"ticker\":null},\"id\":\"5554\",\"type\":\"Grid\"},{\"attributes\":{\"axis_label\":\"Date\",\"bounds\":\"auto\",\"formatter\":{\"id\":\"5581\"},\"major_label_orientation\":\"horizontal\",\"ticker\":{\"id\":\"5552\"}},\"id\":\"5551\",\"type\":\"DatetimeAxis\"},{\"attributes\":{\"days\":[1,2,3,4,5,6,7,8,9,10,11,12,13,14,15,16,17,18,19,20,21,22,23,24,25,26,27,28,29,30,31]},\"id\":\"5595\",\"type\":\"DaysTicker\"},{\"attributes\":{\"months\":[0,4,8]},\"id\":\"5601\",\"type\":\"MonthsTicker\"},{\"attributes\":{},\"id\":\"5559\",\"type\":\"SaveTool\"},{\"attributes\":{\"axis\":{\"id\":\"5555\"},\"dimension\":1,\"grid_line_color\":null,\"ticker\":null},\"id\":\"5558\",\"type\":\"Grid\"},{\"attributes\":{},\"id\":\"5563\",\"type\":\"ResetTool\"},{\"attributes\":{\"days\":[1,15]},\"id\":\"5598\",\"type\":\"DaysTicker\"},{\"attributes\":{\"overlay\":{\"id\":\"5564\"}},\"id\":\"5562\",\"type\":\"BoxZoomTool\"},{\"attributes\":{\"line_color\":\"aqua\",\"line_width\":2,\"x\":{\"field\":\"Date\"},\"y\":{\"field\":\"Unemployment\"}},\"id\":\"5575\",\"type\":\"Line\"},{\"attributes\":{},\"id\":\"5583\",\"type\":\"BasicTickFormatter\"},{\"attributes\":{},\"id\":\"5560\",\"type\":\"PanTool\"},{\"attributes\":{\"base\":24,\"mantissas\":[1,2,4,6,8,12],\"max_interval\":43200000.0,\"min_interval\":3600000.0,\"num_minor_ticks\":0},\"id\":\"5594\",\"type\":\"AdaptiveTicker\"},{\"attributes\":{\"line_alpha\":0.1,\"line_color\":\"aqua\",\"line_width\":2,\"x\":{\"field\":\"Date\"},\"y\":{\"field\":\"Unemployment\"}},\"id\":\"5576\",\"type\":\"Line\"},{\"attributes\":{\"data_source\":{\"id\":\"5572\"},\"glyph\":{\"id\":\"5575\"},\"hover_glyph\":null,\"muted_glyph\":{\"id\":\"5577\"},\"nonselection_glyph\":{\"id\":\"5576\"},\"selection_glyph\":null,\"view\":{\"id\":\"5579\"}},\"id\":\"5578\",\"type\":\"GlyphRenderer\"},{\"attributes\":{},\"id\":\"5591\",\"type\":\"UnionRenderers\"},{\"attributes\":{\"base\":60,\"mantissas\":[1,2,5,10,15,20,30],\"max_interval\":1800000.0,\"min_interval\":1000.0,\"num_minor_ticks\":0},\"id\":\"5593\",\"type\":\"AdaptiveTicker\"},{\"attributes\":{\"months\":[0,1,2,3,4,5,6,7,8,9,10,11]},\"id\":\"5599\",\"type\":\"MonthsTicker\"},{\"attributes\":{\"children\":[{\"id\":\"5538\"},{\"id\":\"5542\"},{\"id\":\"5624\"}],\"margin\":[0,0,0,0],\"name\":\"Row05749\",\"tags\":[\"embedded\"]},\"id\":\"5537\",\"type\":\"Row\"},{\"attributes\":{},\"id\":\"5549\",\"type\":\"LinearScale\"},{\"attributes\":{\"data\":{\"Date\":{\"__ndarray__\":\"AAAA/gM1VEIAAABJ8ApWQgAAAJTc4FdCAAAA38i2WUIAAADB/o1bQgAAAAzrY11CAAAAV9c5X0IAAADR4YdgQgAAAMJ8c2FCAACA53JeYkIAAAANaUljQgAAgDJfNGRCAACAI/ofZUIAAABJ8ApmQgAAgG7m9WZCAAAAlNzgZ0IAAACFd8xoQgAAgKptt2lCAAAA0GOiakIAAID1WY1rQgAAgOb0eGxCAAAADOtjbUIAAIAx4U5uQgAAAFfXOW9CAAAAJLkScEIAAMA2NIhwQgAAgEmv/XBCAABAXCpzcUIAAMDU9+hxQgAAgOdyXnJCAABA+u3TckIAAAANaUlzQgAAgIU2v3NCAABAmLE0dEIAAACrLKp0QgAAwL2nH3VCAABANnWVdUIAAABJ8Ap2QgAAwFtrgHZCAACAbub1dkI=\",\"dtype\":\"float64\",\"order\":\"little\",\"shape\":[40]},\"Unemployment\":{\"__ndarray__\":\"AAAAAAAAHkAzMzMzMzMhQM3MzMzMzCRAAAAAAAAAIEAzMzMzMzMdQM3MzMzMzBpAZmZmZmZmGkDNzMzMzMwWQJqZmZmZmRVAmpmZmZmZFUCamZmZmZkZQDMzMzMzMx1AMzMzMzMzHUBmZmZmZmYaQGZmZmZmZhZAZmZmZmZmFkAzMzMzMzMVQGZmZmZmZhJAMzMzMzMzEUAAAAAAAAAQQM3MzMzMzBBAzczMzMzMFkAzMzMzMzMXQM3MzMzMzBZAMzMzMzMzFUDNzMzMzMwSQGZmZmZmZhJAAAAAAAAAFEAzMzMzMzMfQJqZmZmZmSNAMzMzMzMzIkCamZmZmZkgQAAAAAAAACBAZmZmZmZmGkDNzMzMzMwWQJqZmZmZmRNAzczMzMzMEkBmZmZmZmYQQAAAAAAAABBAzczMzMzMDEA=\",\"dtype\":\"float64\",\"order\":\"little\",\"shape\":[40]}},\"selected\":{\"id\":\"5573\"},\"selection_policy\":{\"id\":\"5591\"}},\"id\":\"5572\",\"type\":\"ColumnDataSource\"},{\"attributes\":{},\"id\":\"5573\",\"type\":\"Selection\"},{\"attributes\":{\"callback\":null,\"formatters\":{\"@{Date}\":\"datetime\"},\"renderers\":[{\"id\":\"5578\"}],\"tags\":[\"hv_created\"],\"tooltips\":[[\"Date\",\"@{Date}{%F %T}\"],[\"Unemployment\",\"@{Unemployment}\"]]},\"id\":\"5541\",\"type\":\"HoverTool\"},{\"attributes\":{\"mantissas\":[1,2,5],\"max_interval\":500.0,\"num_minor_ticks\":0},\"id\":\"5592\",\"type\":\"AdaptiveTicker\"},{\"attributes\":{\"days\":[1,8,15,22]},\"id\":\"5597\",\"type\":\"DaysTicker\"},{\"attributes\":{},\"id\":\"5603\",\"type\":\"YearsTicker\"},{\"attributes\":{},\"id\":\"5556\",\"type\":\"BasicTicker\"},{\"attributes\":{\"source\":{\"id\":\"5572\"}},\"id\":\"5579\",\"type\":\"CDSView\"},{\"attributes\":{\"months\":[0,6]},\"id\":\"5602\",\"type\":\"MonthsTicker\"},{\"attributes\":{},\"id\":\"5547\",\"type\":\"LinearScale\"},{\"attributes\":{\"end\":11.08,\"reset_end\":11.08,\"reset_start\":2.92,\"start\":2.92,\"tags\":[[[\"Unemployment\",\"Unemployment\",null]]]},\"id\":\"5540\",\"type\":\"Range1d\"},{\"attributes\":{\"text\":\"Unemployment per Year\",\"text_color\":{\"value\":\"black\"},\"text_font_size\":{\"value\":\"12pt\"}},\"id\":\"5543\",\"type\":\"Title\"},{\"attributes\":{},\"id\":\"5561\",\"type\":\"WheelZoomTool\"},{\"attributes\":{\"days\":[1,4,7,10,13,16,19,22,25,28]},\"id\":\"5596\",\"type\":\"DaysTicker\"},{\"attributes\":{\"align\":null,\"below\":[{\"id\":\"5551\"}],\"center\":[{\"id\":\"5554\"},{\"id\":\"5558\"}],\"left\":[{\"id\":\"5555\"}],\"margin\":null,\"min_border_bottom\":10,\"min_border_left\":10,\"min_border_right\":10,\"min_border_top\":10,\"plot_height\":300,\"plot_width\":700,\"renderers\":[{\"id\":\"5578\"}],\"sizing_mode\":\"fixed\",\"title\":{\"id\":\"5543\"},\"toolbar\":{\"id\":\"5565\"},\"x_range\":{\"id\":\"5539\"},\"x_scale\":{\"id\":\"5547\"},\"y_range\":{\"id\":\"5540\"},\"y_scale\":{\"id\":\"5549\"}},\"id\":\"5542\",\"subtype\":\"Figure\",\"type\":\"Plot\"},{\"attributes\":{\"axis_label\":\"Unemployment\",\"bounds\":\"auto\",\"formatter\":{\"id\":\"5583\"},\"major_label_orientation\":\"horizontal\",\"ticker\":{\"id\":\"5556\"}},\"id\":\"5555\",\"type\":\"LinearAxis\"}],\"root_ids\":[\"5537\"]},\"title\":\"Bokeh Application\",\"version\":\"2.1.1\"}};\n",
       "  var render_items = [{\"docid\":\"9186dfee-c2e3-48f6-a865-9ab2e328ea14\",\"root_ids\":[\"5537\"],\"roots\":{\"5537\":\"08f6a788-e6e7-4fc3-9531-087cde04203b\"}}];\n",
       "  root.Bokeh.embed.embed_items_notebook(docs_json, render_items);\n",
       "  }\n",
       "if (root.Bokeh !== undefined) {\n",
       "    embed_document(root);\n",
       "  } else {\n",
       "    var attempts = 0;\n",
       "    var timer = setInterval(function(root) {\n",
       "      if (root.Bokeh !== undefined) {\n",
       "        clearInterval(timer);\n",
       "        embed_document(root);\n",
       "      } else if (document.readyState == \"complete\") {\n",
       "        attempts++;\n",
       "        if (attempts > 100) {\n",
       "          clearInterval(timer);\n",
       "          console.log(\"Bokeh: ERROR: Unable to run BokehJS code because BokehJS library is missing\");\n",
       "        }\n",
       "      }\n",
       "    }, 10, root)\n",
       "  }\n",
       "})(window);</script>"
      ],
      "text/plain": [
       ":Curve   [Date]   (Unemployment)"
      ]
     },
     "execution_count": 100,
     "metadata": {
      "application/vnd.holoviews_exec.v0+json": {
       "id": "5537"
      }
     },
     "output_type": "execute_result"
    }
   ],
   "source": [
    "unemployment_plot = unemployment_data.hvplot.line(x = 'Date', y = 'Unemployment', title = 'Unemployment per Year', color = 'aqua')\n",
    "unemployment_plot\n",
    "\n",
    "#first_column =  pn.Column(unemployment_plot)"
   ]
  },
  {
   "cell_type": "code",
   "execution_count": 101,
   "metadata": {},
   "outputs": [
    {
     "data": {
      "text/html": [
       "<div>\n",
       "<style scoped>\n",
       "    .dataframe tbody tr th:only-of-type {\n",
       "        vertical-align: middle;\n",
       "    }\n",
       "\n",
       "    .dataframe tbody tr th {\n",
       "        vertical-align: top;\n",
       "    }\n",
       "\n",
       "    .dataframe thead th {\n",
       "        text-align: right;\n",
       "    }\n",
       "</style>\n",
       "<table border=\"1\" class=\"dataframe\">\n",
       "  <thead>\n",
       "    <tr style=\"text-align: right;\">\n",
       "      <th></th>\n",
       "      <th>Unemployment</th>\n",
       "    </tr>\n",
       "    <tr>\n",
       "      <th>Date</th>\n",
       "      <th></th>\n",
       "    </tr>\n",
       "  </thead>\n",
       "  <tbody>\n",
       "    <tr>\n",
       "      <th>1981-01-01</th>\n",
       "      <td>7.5</td>\n",
       "    </tr>\n",
       "    <tr>\n",
       "      <th>1982-01-01</th>\n",
       "      <td>8.6</td>\n",
       "    </tr>\n",
       "    <tr>\n",
       "      <th>1983-01-01</th>\n",
       "      <td>10.4</td>\n",
       "    </tr>\n",
       "    <tr>\n",
       "      <th>1984-01-01</th>\n",
       "      <td>8.0</td>\n",
       "    </tr>\n",
       "    <tr>\n",
       "      <th>1985-01-01</th>\n",
       "      <td>7.3</td>\n",
       "    </tr>\n",
       "    <tr>\n",
       "      <th>1986-01-01</th>\n",
       "      <td>6.7</td>\n",
       "    </tr>\n",
       "    <tr>\n",
       "      <th>1987-01-01</th>\n",
       "      <td>6.6</td>\n",
       "    </tr>\n",
       "    <tr>\n",
       "      <th>1988-01-01</th>\n",
       "      <td>5.7</td>\n",
       "    </tr>\n",
       "  </tbody>\n",
       "</table>\n",
       "</div>"
      ],
      "text/plain": [
       "            Unemployment\n",
       "Date                    \n",
       "1981-01-01           7.5\n",
       "1982-01-01           8.6\n",
       "1983-01-01          10.4\n",
       "1984-01-01           8.0\n",
       "1985-01-01           7.3\n",
       "1986-01-01           6.7\n",
       "1987-01-01           6.6\n",
       "1988-01-01           5.7"
      ]
     },
     "execution_count": 101,
     "metadata": {},
     "output_type": "execute_result"
    }
   ],
   "source": [
    "reagan = unemployment_data.iloc[0:8]\n",
    "reagan"
   ]
  },
  {
   "cell_type": "code",
   "execution_count": 102,
   "metadata": {},
   "outputs": [
    {
     "data": {
      "application/vnd.holoviews_exec.v0+json": "",
      "text/html": [
       "<div id='5726'>\n",
       "\n",
       "\n",
       "\n",
       "\n",
       "\n",
       "  <div class=\"bk-root\" id=\"a94c7997-2882-461b-a566-5867c0e74ad9\" data-root-id=\"5726\"></div>\n",
       "</div>\n",
       "<script type=\"application/javascript\">(function(root) {\n",
       "  function embed_document(root) {\n",
       "  var docs_json = {\"d4e8bbbb-7ab9-4a2c-b37a-e49ecfdd5c5f\":{\"roots\":{\"references\":[{\"attributes\":{\"mantissas\":[1,2,5],\"max_interval\":500.0,\"num_minor_ticks\":0},\"id\":\"5781\",\"type\":\"AdaptiveTicker\"},{\"attributes\":{\"months\":[0,2,4,6,8,10]},\"id\":\"5789\",\"type\":\"MonthsTicker\"},{\"attributes\":{\"axis_label\":\"Unemployment\",\"bounds\":\"auto\",\"formatter\":{\"id\":\"5772\"},\"major_label_orientation\":\"horizontal\",\"ticker\":{\"id\":\"5745\"}},\"id\":\"5744\",\"type\":\"LinearAxis\"},{\"attributes\":{},\"id\":\"5749\",\"type\":\"PanTool\"},{\"attributes\":{},\"id\":\"5736\",\"type\":\"LinearScale\"},{\"attributes\":{\"children\":[{\"id\":\"5727\"},{\"id\":\"5731\"},{\"id\":\"5813\"}],\"margin\":[0,0,0,0],\"name\":\"Row05925\",\"tags\":[\"embedded\"]},\"id\":\"5726\",\"type\":\"Row\"},{\"attributes\":{\"axis\":{\"id\":\"5744\"},\"dimension\":1,\"grid_line_color\":null,\"ticker\":null},\"id\":\"5747\",\"type\":\"Grid\"},{\"attributes\":{\"data\":{\"Date\":{\"__ndarray__\":\"AAAA/gM1VEIAAABJ8ApWQgAAAJTc4FdCAAAA38i2WUIAAADB/o1bQgAAAAzrY11CAAAAV9c5X0IAAADR4YdgQg==\",\"dtype\":\"float64\",\"order\":\"little\",\"shape\":[8]},\"Unemployment\":{\"__ndarray__\":\"AAAAAAAAHkAzMzMzMzMhQM3MzMzMzCRAAAAAAAAAIEAzMzMzMzMdQM3MzMzMzBpAZmZmZmZmGkDNzMzMzMwWQA==\",\"dtype\":\"float64\",\"order\":\"little\",\"shape\":[8]}},\"selected\":{\"id\":\"5762\"},\"selection_policy\":{\"id\":\"5780\"}},\"id\":\"5761\",\"type\":\"ColumnDataSource\"},{\"attributes\":{\"days\":[1,8,15,22]},\"id\":\"5786\",\"type\":\"DaysTicker\"},{\"attributes\":{\"end\":10.870000000000001,\"reset_end\":10.870000000000001,\"reset_start\":5.23,\"start\":5.23,\"tags\":[[[\"Unemployment\",\"Unemployment\",null]]]},\"id\":\"5729\",\"type\":\"Range1d\"},{\"attributes\":{},\"id\":\"5750\",\"type\":\"WheelZoomTool\"},{\"attributes\":{\"end\":567993600000.0,\"reset_end\":567993600000.0,\"reset_start\":347155200000.0,\"start\":347155200000.0,\"tags\":[[[\"Date\",\"Date\",null]]]},\"id\":\"5728\",\"type\":\"Range1d\"},{\"attributes\":{\"active_drag\":\"auto\",\"active_inspect\":\"auto\",\"active_multi\":null,\"active_scroll\":\"auto\",\"active_tap\":\"auto\",\"tools\":[{\"id\":\"5730\"},{\"id\":\"5748\"},{\"id\":\"5749\"},{\"id\":\"5750\"},{\"id\":\"5751\"},{\"id\":\"5752\"}]},\"id\":\"5754\",\"type\":\"Toolbar\"},{\"attributes\":{\"axis_label\":\"Date\",\"bounds\":\"auto\",\"formatter\":{\"id\":\"5770\"},\"major_label_orientation\":\"horizontal\",\"ticker\":{\"id\":\"5741\"}},\"id\":\"5740\",\"type\":\"DatetimeAxis\"},{\"attributes\":{\"source\":{\"id\":\"5761\"}},\"id\":\"5768\",\"type\":\"CDSView\"},{\"attributes\":{\"days\":[1,4,7,10,13,16,19,22,25,28]},\"id\":\"5785\",\"type\":\"DaysTicker\"},{\"attributes\":{\"base\":60,\"mantissas\":[1,2,5,10,15,20,30],\"max_interval\":1800000.0,\"min_interval\":1000.0,\"num_minor_ticks\":0},\"id\":\"5782\",\"type\":\"AdaptiveTicker\"},{\"attributes\":{\"days\":[1,2,3,4,5,6,7,8,9,10,11,12,13,14,15,16,17,18,19,20,21,22,23,24,25,26,27,28,29,30,31]},\"id\":\"5784\",\"type\":\"DaysTicker\"},{\"attributes\":{\"margin\":[5,5,5,5],\"name\":\"HSpacer05929\",\"sizing_mode\":\"stretch_width\"},\"id\":\"5727\",\"type\":\"Spacer\"},{\"attributes\":{\"line_alpha\":0.2,\"line_color\":\"aqua\",\"line_width\":2,\"x\":{\"field\":\"Date\"},\"y\":{\"field\":\"Unemployment\"}},\"id\":\"5766\",\"type\":\"Line\"},{\"attributes\":{},\"id\":\"5772\",\"type\":\"BasicTickFormatter\"},{\"attributes\":{\"base\":24,\"mantissas\":[1,2,4,6,8,12],\"max_interval\":43200000.0,\"min_interval\":3600000.0,\"num_minor_ticks\":0},\"id\":\"5783\",\"type\":\"AdaptiveTicker\"},{\"attributes\":{\"text\":\"Unemployment During the Reagan Presidency\",\"text_color\":{\"value\":\"black\"},\"text_font_size\":{\"value\":\"12pt\"}},\"id\":\"5732\",\"type\":\"Title\"},{\"attributes\":{},\"id\":\"5738\",\"type\":\"LinearScale\"},{\"attributes\":{\"callback\":null,\"formatters\":{\"@{Date}\":\"datetime\"},\"renderers\":[{\"id\":\"5767\"}],\"tags\":[\"hv_created\"],\"tooltips\":[[\"Date\",\"@{Date}{%F %T}\"],[\"Unemployment\",\"@{Unemployment}\"]]},\"id\":\"5730\",\"type\":\"HoverTool\"},{\"attributes\":{\"line_color\":\"aqua\",\"line_width\":2,\"x\":{\"field\":\"Date\"},\"y\":{\"field\":\"Unemployment\"}},\"id\":\"5764\",\"type\":\"Line\"},{\"attributes\":{},\"id\":\"5748\",\"type\":\"SaveTool\"},{\"attributes\":{},\"id\":\"5752\",\"type\":\"ResetTool\"},{\"attributes\":{},\"id\":\"5792\",\"type\":\"YearsTicker\"},{\"attributes\":{},\"id\":\"5762\",\"type\":\"Selection\"},{\"attributes\":{\"line_alpha\":0.1,\"line_color\":\"aqua\",\"line_width\":2,\"x\":{\"field\":\"Date\"},\"y\":{\"field\":\"Unemployment\"}},\"id\":\"5765\",\"type\":\"Line\"},{\"attributes\":{},\"id\":\"5780\",\"type\":\"UnionRenderers\"},{\"attributes\":{\"data_source\":{\"id\":\"5761\"},\"glyph\":{\"id\":\"5764\"},\"hover_glyph\":null,\"muted_glyph\":{\"id\":\"5766\"},\"nonselection_glyph\":{\"id\":\"5765\"},\"selection_glyph\":null,\"view\":{\"id\":\"5768\"}},\"id\":\"5767\",\"type\":\"GlyphRenderer\"},{\"attributes\":{},\"id\":\"5770\",\"type\":\"DatetimeTickFormatter\"},{\"attributes\":{\"axis\":{\"id\":\"5740\"},\"grid_line_color\":null,\"ticker\":null},\"id\":\"5743\",\"type\":\"Grid\"},{\"attributes\":{\"align\":null,\"below\":[{\"id\":\"5740\"}],\"center\":[{\"id\":\"5743\"},{\"id\":\"5747\"}],\"left\":[{\"id\":\"5744\"}],\"margin\":null,\"min_border_bottom\":10,\"min_border_left\":10,\"min_border_right\":10,\"min_border_top\":10,\"plot_height\":300,\"plot_width\":700,\"renderers\":[{\"id\":\"5767\"}],\"sizing_mode\":\"fixed\",\"title\":{\"id\":\"5732\"},\"toolbar\":{\"id\":\"5754\"},\"x_range\":{\"id\":\"5728\"},\"x_scale\":{\"id\":\"5736\"},\"y_range\":{\"id\":\"5729\"},\"y_scale\":{\"id\":\"5738\"}},\"id\":\"5731\",\"subtype\":\"Figure\",\"type\":\"Plot\"},{\"attributes\":{\"margin\":[5,5,5,5],\"name\":\"HSpacer05930\",\"sizing_mode\":\"stretch_width\"},\"id\":\"5813\",\"type\":\"Spacer\"},{\"attributes\":{\"num_minor_ticks\":5,\"tickers\":[{\"id\":\"5781\"},{\"id\":\"5782\"},{\"id\":\"5783\"},{\"id\":\"5784\"},{\"id\":\"5785\"},{\"id\":\"5786\"},{\"id\":\"5787\"},{\"id\":\"5788\"},{\"id\":\"5789\"},{\"id\":\"5790\"},{\"id\":\"5791\"},{\"id\":\"5792\"}]},\"id\":\"5741\",\"type\":\"DatetimeTicker\"},{\"attributes\":{\"bottom_units\":\"screen\",\"fill_alpha\":0.5,\"fill_color\":\"lightgrey\",\"left_units\":\"screen\",\"level\":\"overlay\",\"line_alpha\":1.0,\"line_color\":\"black\",\"line_dash\":[4,4],\"line_width\":2,\"right_units\":\"screen\",\"top_units\":\"screen\"},\"id\":\"5753\",\"type\":\"BoxAnnotation\"},{\"attributes\":{\"months\":[0,6]},\"id\":\"5791\",\"type\":\"MonthsTicker\"},{\"attributes\":{\"days\":[1,15]},\"id\":\"5787\",\"type\":\"DaysTicker\"},{\"attributes\":{},\"id\":\"5745\",\"type\":\"BasicTicker\"},{\"attributes\":{\"overlay\":{\"id\":\"5753\"}},\"id\":\"5751\",\"type\":\"BoxZoomTool\"},{\"attributes\":{\"months\":[0,1,2,3,4,5,6,7,8,9,10,11]},\"id\":\"5788\",\"type\":\"MonthsTicker\"},{\"attributes\":{\"months\":[0,4,8]},\"id\":\"5790\",\"type\":\"MonthsTicker\"}],\"root_ids\":[\"5726\"]},\"title\":\"Bokeh Application\",\"version\":\"2.1.1\"}};\n",
       "  var render_items = [{\"docid\":\"d4e8bbbb-7ab9-4a2c-b37a-e49ecfdd5c5f\",\"root_ids\":[\"5726\"],\"roots\":{\"5726\":\"a94c7997-2882-461b-a566-5867c0e74ad9\"}}];\n",
       "  root.Bokeh.embed.embed_items_notebook(docs_json, render_items);\n",
       "  }\n",
       "if (root.Bokeh !== undefined) {\n",
       "    embed_document(root);\n",
       "  } else {\n",
       "    var attempts = 0;\n",
       "    var timer = setInterval(function(root) {\n",
       "      if (root.Bokeh !== undefined) {\n",
       "        clearInterval(timer);\n",
       "        embed_document(root);\n",
       "      } else if (document.readyState == \"complete\") {\n",
       "        attempts++;\n",
       "        if (attempts > 100) {\n",
       "          clearInterval(timer);\n",
       "          console.log(\"Bokeh: ERROR: Unable to run BokehJS code because BokehJS library is missing\");\n",
       "        }\n",
       "      }\n",
       "    }, 10, root)\n",
       "  }\n",
       "})(window);</script>"
      ],
      "text/plain": [
       ":Curve   [Date]   (Unemployment)"
      ]
     },
     "execution_count": 102,
     "metadata": {
      "application/vnd.holoviews_exec.v0+json": {
       "id": "5726"
      }
     },
     "output_type": "execute_result"
    }
   ],
   "source": [
    "reagan_plot = reagan.hvplot.line(x = 'Date', y = 'Unemployment', title = 'Unemployment During the Reagan Presidency', color = 'aqua')\n",
    "reagan_plot\n",
    "#reagan_column = pn.Column(reagan_plot)"
   ]
  },
  {
   "cell_type": "code",
   "execution_count": 103,
   "metadata": {},
   "outputs": [
    {
     "data": {
      "text/html": [
       "<div>\n",
       "<style scoped>\n",
       "    .dataframe tbody tr th:only-of-type {\n",
       "        vertical-align: middle;\n",
       "    }\n",
       "\n",
       "    .dataframe tbody tr th {\n",
       "        vertical-align: top;\n",
       "    }\n",
       "\n",
       "    .dataframe thead th {\n",
       "        text-align: right;\n",
       "    }\n",
       "</style>\n",
       "<table border=\"1\" class=\"dataframe\">\n",
       "  <thead>\n",
       "    <tr style=\"text-align: right;\">\n",
       "      <th></th>\n",
       "      <th>Unemployment</th>\n",
       "    </tr>\n",
       "    <tr>\n",
       "      <th>Date</th>\n",
       "      <th></th>\n",
       "    </tr>\n",
       "  </thead>\n",
       "  <tbody>\n",
       "    <tr>\n",
       "      <th>1989-01-01</th>\n",
       "      <td>5.4</td>\n",
       "    </tr>\n",
       "    <tr>\n",
       "      <th>1990-01-01</th>\n",
       "      <td>5.4</td>\n",
       "    </tr>\n",
       "    <tr>\n",
       "      <th>1991-01-01</th>\n",
       "      <td>6.4</td>\n",
       "    </tr>\n",
       "    <tr>\n",
       "      <th>1992-01-01</th>\n",
       "      <td>7.3</td>\n",
       "    </tr>\n",
       "  </tbody>\n",
       "</table>\n",
       "</div>"
      ],
      "text/plain": [
       "            Unemployment\n",
       "Date                    \n",
       "1989-01-01           5.4\n",
       "1990-01-01           5.4\n",
       "1991-01-01           6.4\n",
       "1992-01-01           7.3"
      ]
     },
     "execution_count": 103,
     "metadata": {},
     "output_type": "execute_result"
    }
   ],
   "source": [
    "bush = unemployment_data.iloc[8:12]\n",
    "bush"
   ]
  },
  {
   "cell_type": "code",
   "execution_count": 104,
   "metadata": {},
   "outputs": [
    {
     "data": {
      "application/vnd.holoviews_exec.v0+json": "",
      "text/html": [
       "<div id='5915'>\n",
       "\n",
       "\n",
       "\n",
       "\n",
       "\n",
       "  <div class=\"bk-root\" id=\"08cabe17-1bf6-4266-a2a4-c1afaecb166a\" data-root-id=\"5915\"></div>\n",
       "</div>\n",
       "<script type=\"application/javascript\">(function(root) {\n",
       "  function embed_document(root) {\n",
       "  var docs_json = {\"9aca7630-ae78-48a1-a1a9-58bd13f1469e\":{\"roots\":{\"references\":[{\"attributes\":{},\"id\":\"5959\",\"type\":\"DatetimeTickFormatter\"},{\"attributes\":{\"callback\":null,\"formatters\":{\"@{Date}\":\"datetime\"},\"renderers\":[{\"id\":\"5956\"}],\"tags\":[\"hv_created\"],\"tooltips\":[[\"Date\",\"@{Date}{%F %T}\"],[\"Unemployment\",\"@{Unemployment}\"]]},\"id\":\"5919\",\"type\":\"HoverTool\"},{\"attributes\":{\"source\":{\"id\":\"5950\"}},\"id\":\"5957\",\"type\":\"CDSView\"},{\"attributes\":{\"axis\":{\"id\":\"5929\"},\"grid_line_color\":null,\"ticker\":null},\"id\":\"5932\",\"type\":\"Grid\"},{\"attributes\":{},\"id\":\"5961\",\"type\":\"BasicTickFormatter\"},{\"attributes\":{\"align\":null,\"below\":[{\"id\":\"5929\"}],\"center\":[{\"id\":\"5932\"},{\"id\":\"5936\"}],\"left\":[{\"id\":\"5933\"}],\"margin\":null,\"min_border_bottom\":10,\"min_border_left\":10,\"min_border_right\":10,\"min_border_top\":10,\"plot_height\":300,\"plot_width\":700,\"renderers\":[{\"id\":\"5956\"}],\"sizing_mode\":\"fixed\",\"title\":{\"id\":\"5921\"},\"toolbar\":{\"id\":\"5943\"},\"x_range\":{\"id\":\"5917\"},\"x_scale\":{\"id\":\"5925\"},\"y_range\":{\"id\":\"5918\"},\"y_scale\":{\"id\":\"5927\"}},\"id\":\"5920\",\"subtype\":\"Figure\",\"type\":\"Plot\"},{\"attributes\":{\"active_drag\":\"auto\",\"active_inspect\":\"auto\",\"active_multi\":null,\"active_scroll\":\"auto\",\"active_tap\":\"auto\",\"tools\":[{\"id\":\"5919\"},{\"id\":\"5937\"},{\"id\":\"5938\"},{\"id\":\"5939\"},{\"id\":\"5940\"},{\"id\":\"5941\"}]},\"id\":\"5943\",\"type\":\"Toolbar\"},{\"attributes\":{\"overlay\":{\"id\":\"5942\"}},\"id\":\"5940\",\"type\":\"BoxZoomTool\"},{\"attributes\":{\"line_alpha\":0.2,\"line_color\":\"aqua\",\"line_width\":2,\"x\":{\"field\":\"Date\"},\"y\":{\"field\":\"Unemployment\"}},\"id\":\"5955\",\"type\":\"Line\"},{\"attributes\":{\"days\":[1,15]},\"id\":\"5976\",\"type\":\"DaysTicker\"},{\"attributes\":{\"months\":[0,4,8]},\"id\":\"5979\",\"type\":\"MonthsTicker\"},{\"attributes\":{\"children\":[{\"id\":\"5916\"},{\"id\":\"5920\"},{\"id\":\"6002\"}],\"margin\":[0,0,0,0],\"name\":\"Row06101\",\"tags\":[\"embedded\"]},\"id\":\"5915\",\"type\":\"Row\"},{\"attributes\":{},\"id\":\"5941\",\"type\":\"ResetTool\"},{\"attributes\":{\"text\":\"Unemployment During the Bush Presidency\",\"text_color\":{\"value\":\"black\"},\"text_font_size\":{\"value\":\"12pt\"}},\"id\":\"5921\",\"type\":\"Title\"},{\"attributes\":{},\"id\":\"5938\",\"type\":\"PanTool\"},{\"attributes\":{\"months\":[0,1,2,3,4,5,6,7,8,9,10,11]},\"id\":\"5977\",\"type\":\"MonthsTicker\"},{\"attributes\":{\"line_color\":\"aqua\",\"line_width\":2,\"x\":{\"field\":\"Date\"},\"y\":{\"field\":\"Unemployment\"}},\"id\":\"5953\",\"type\":\"Line\"},{\"attributes\":{\"end\":7.49,\"reset_end\":7.49,\"reset_start\":5.210000000000001,\"start\":5.210000000000001,\"tags\":[[[\"Unemployment\",\"Unemployment\",null]]]},\"id\":\"5918\",\"type\":\"Range1d\"},{\"attributes\":{},\"id\":\"5925\",\"type\":\"LinearScale\"},{\"attributes\":{\"line_alpha\":0.1,\"line_color\":\"aqua\",\"line_width\":2,\"x\":{\"field\":\"Date\"},\"y\":{\"field\":\"Unemployment\"}},\"id\":\"5954\",\"type\":\"Line\"},{\"attributes\":{\"margin\":[5,5,5,5],\"name\":\"HSpacer06105\",\"sizing_mode\":\"stretch_width\"},\"id\":\"5916\",\"type\":\"Spacer\"},{\"attributes\":{},\"id\":\"5969\",\"type\":\"UnionRenderers\"},{\"attributes\":{\"base\":24,\"mantissas\":[1,2,4,6,8,12],\"max_interval\":43200000.0,\"min_interval\":3600000.0,\"num_minor_ticks\":0},\"id\":\"5972\",\"type\":\"AdaptiveTicker\"},{\"attributes\":{},\"id\":\"5927\",\"type\":\"LinearScale\"},{\"attributes\":{\"base\":60,\"mantissas\":[1,2,5,10,15,20,30],\"max_interval\":1800000.0,\"min_interval\":1000.0,\"num_minor_ticks\":0},\"id\":\"5971\",\"type\":\"AdaptiveTicker\"},{\"attributes\":{\"months\":[0,6]},\"id\":\"5980\",\"type\":\"MonthsTicker\"},{\"attributes\":{\"data\":{\"Date\":{\"__ndarray__\":\"AAAAwnxzYUIAAIDncl5iQgAAAA1pSWNCAACAMl80ZEI=\",\"dtype\":\"float64\",\"order\":\"little\",\"shape\":[4]},\"Unemployment\":{\"__ndarray__\":\"mpmZmZmZFUCamZmZmZkVQJqZmZmZmRlAMzMzMzMzHUA=\",\"dtype\":\"float64\",\"order\":\"little\",\"shape\":[4]}},\"selected\":{\"id\":\"5951\"},\"selection_policy\":{\"id\":\"5969\"}},\"id\":\"5950\",\"type\":\"ColumnDataSource\"},{\"attributes\":{},\"id\":\"5937\",\"type\":\"SaveTool\"},{\"attributes\":{\"days\":[1,4,7,10,13,16,19,22,25,28]},\"id\":\"5974\",\"type\":\"DaysTicker\"},{\"attributes\":{\"axis\":{\"id\":\"5933\"},\"dimension\":1,\"grid_line_color\":null,\"ticker\":null},\"id\":\"5936\",\"type\":\"Grid\"},{\"attributes\":{\"data_source\":{\"id\":\"5950\"},\"glyph\":{\"id\":\"5953\"},\"hover_glyph\":null,\"muted_glyph\":{\"id\":\"5955\"},\"nonselection_glyph\":{\"id\":\"5954\"},\"selection_glyph\":null,\"view\":{\"id\":\"5957\"}},\"id\":\"5956\",\"type\":\"GlyphRenderer\"},{\"attributes\":{},\"id\":\"5951\",\"type\":\"Selection\"},{\"attributes\":{},\"id\":\"5981\",\"type\":\"YearsTicker\"},{\"attributes\":{\"margin\":[5,5,5,5],\"name\":\"HSpacer06106\",\"sizing_mode\":\"stretch_width\"},\"id\":\"6002\",\"type\":\"Spacer\"},{\"attributes\":{\"mantissas\":[1,2,5],\"max_interval\":500.0,\"num_minor_ticks\":0},\"id\":\"5970\",\"type\":\"AdaptiveTicker\"},{\"attributes\":{\"months\":[0,2,4,6,8,10]},\"id\":\"5978\",\"type\":\"MonthsTicker\"},{\"attributes\":{},\"id\":\"5934\",\"type\":\"BasicTicker\"},{\"attributes\":{\"bottom_units\":\"screen\",\"fill_alpha\":0.5,\"fill_color\":\"lightgrey\",\"left_units\":\"screen\",\"level\":\"overlay\",\"line_alpha\":1.0,\"line_color\":\"black\",\"line_dash\":[4,4],\"line_width\":2,\"right_units\":\"screen\",\"top_units\":\"screen\"},\"id\":\"5942\",\"type\":\"BoxAnnotation\"},{\"attributes\":{\"days\":[1,8,15,22]},\"id\":\"5975\",\"type\":\"DaysTicker\"},{\"attributes\":{\"end\":694224000000.0,\"reset_end\":694224000000.0,\"reset_start\":599616000000.0,\"start\":599616000000.0,\"tags\":[[[\"Date\",\"Date\",null]]]},\"id\":\"5917\",\"type\":\"Range1d\"},{\"attributes\":{\"axis_label\":\"Date\",\"bounds\":\"auto\",\"formatter\":{\"id\":\"5959\"},\"major_label_orientation\":\"horizontal\",\"ticker\":{\"id\":\"5930\"}},\"id\":\"5929\",\"type\":\"DatetimeAxis\"},{\"attributes\":{\"days\":[1,2,3,4,5,6,7,8,9,10,11,12,13,14,15,16,17,18,19,20,21,22,23,24,25,26,27,28,29,30,31]},\"id\":\"5973\",\"type\":\"DaysTicker\"},{\"attributes\":{},\"id\":\"5939\",\"type\":\"WheelZoomTool\"},{\"attributes\":{\"num_minor_ticks\":5,\"tickers\":[{\"id\":\"5970\"},{\"id\":\"5971\"},{\"id\":\"5972\"},{\"id\":\"5973\"},{\"id\":\"5974\"},{\"id\":\"5975\"},{\"id\":\"5976\"},{\"id\":\"5977\"},{\"id\":\"5978\"},{\"id\":\"5979\"},{\"id\":\"5980\"},{\"id\":\"5981\"}]},\"id\":\"5930\",\"type\":\"DatetimeTicker\"},{\"attributes\":{\"axis_label\":\"Unemployment\",\"bounds\":\"auto\",\"formatter\":{\"id\":\"5961\"},\"major_label_orientation\":\"horizontal\",\"ticker\":{\"id\":\"5934\"}},\"id\":\"5933\",\"type\":\"LinearAxis\"}],\"root_ids\":[\"5915\"]},\"title\":\"Bokeh Application\",\"version\":\"2.1.1\"}};\n",
       "  var render_items = [{\"docid\":\"9aca7630-ae78-48a1-a1a9-58bd13f1469e\",\"root_ids\":[\"5915\"],\"roots\":{\"5915\":\"08cabe17-1bf6-4266-a2a4-c1afaecb166a\"}}];\n",
       "  root.Bokeh.embed.embed_items_notebook(docs_json, render_items);\n",
       "  }\n",
       "if (root.Bokeh !== undefined) {\n",
       "    embed_document(root);\n",
       "  } else {\n",
       "    var attempts = 0;\n",
       "    var timer = setInterval(function(root) {\n",
       "      if (root.Bokeh !== undefined) {\n",
       "        clearInterval(timer);\n",
       "        embed_document(root);\n",
       "      } else if (document.readyState == \"complete\") {\n",
       "        attempts++;\n",
       "        if (attempts > 100) {\n",
       "          clearInterval(timer);\n",
       "          console.log(\"Bokeh: ERROR: Unable to run BokehJS code because BokehJS library is missing\");\n",
       "        }\n",
       "      }\n",
       "    }, 10, root)\n",
       "  }\n",
       "})(window);</script>"
      ],
      "text/plain": [
       ":Curve   [Date]   (Unemployment)"
      ]
     },
     "execution_count": 104,
     "metadata": {
      "application/vnd.holoviews_exec.v0+json": {
       "id": "5915"
      }
     },
     "output_type": "execute_result"
    }
   ],
   "source": [
    "bush_plot = bush.hvplot.line(x = 'Date', y = 'Unemployment', title = 'Unemployment During the Bush Presidency', color = 'aqua')\n",
    "bush_plot\n",
    "#bush_column =  pn.Column(bush_plot)"
   ]
  },
  {
   "cell_type": "code",
   "execution_count": 105,
   "metadata": {},
   "outputs": [
    {
     "data": {
      "text/html": [
       "<div>\n",
       "<style scoped>\n",
       "    .dataframe tbody tr th:only-of-type {\n",
       "        vertical-align: middle;\n",
       "    }\n",
       "\n",
       "    .dataframe tbody tr th {\n",
       "        vertical-align: top;\n",
       "    }\n",
       "\n",
       "    .dataframe thead th {\n",
       "        text-align: right;\n",
       "    }\n",
       "</style>\n",
       "<table border=\"1\" class=\"dataframe\">\n",
       "  <thead>\n",
       "    <tr style=\"text-align: right;\">\n",
       "      <th></th>\n",
       "      <th>Unemployment</th>\n",
       "    </tr>\n",
       "    <tr>\n",
       "      <th>Date</th>\n",
       "      <th></th>\n",
       "    </tr>\n",
       "  </thead>\n",
       "  <tbody>\n",
       "    <tr>\n",
       "      <th>1993-01-01</th>\n",
       "      <td>7.3</td>\n",
       "    </tr>\n",
       "    <tr>\n",
       "      <th>1994-01-01</th>\n",
       "      <td>6.6</td>\n",
       "    </tr>\n",
       "    <tr>\n",
       "      <th>1995-01-01</th>\n",
       "      <td>5.6</td>\n",
       "    </tr>\n",
       "    <tr>\n",
       "      <th>1996-01-01</th>\n",
       "      <td>5.6</td>\n",
       "    </tr>\n",
       "    <tr>\n",
       "      <th>1997-01-01</th>\n",
       "      <td>5.3</td>\n",
       "    </tr>\n",
       "    <tr>\n",
       "      <th>1998-01-01</th>\n",
       "      <td>4.6</td>\n",
       "    </tr>\n",
       "    <tr>\n",
       "      <th>1999-01-01</th>\n",
       "      <td>4.3</td>\n",
       "    </tr>\n",
       "    <tr>\n",
       "      <th>2000-01-01</th>\n",
       "      <td>4.0</td>\n",
       "    </tr>\n",
       "  </tbody>\n",
       "</table>\n",
       "</div>"
      ],
      "text/plain": [
       "            Unemployment\n",
       "Date                    \n",
       "1993-01-01           7.3\n",
       "1994-01-01           6.6\n",
       "1995-01-01           5.6\n",
       "1996-01-01           5.6\n",
       "1997-01-01           5.3\n",
       "1998-01-01           4.6\n",
       "1999-01-01           4.3\n",
       "2000-01-01           4.0"
      ]
     },
     "execution_count": 105,
     "metadata": {},
     "output_type": "execute_result"
    }
   ],
   "source": [
    "clinton = unemployment_data.iloc[12:20]\n",
    "clinton"
   ]
  },
  {
   "cell_type": "code",
   "execution_count": 106,
   "metadata": {},
   "outputs": [
    {
     "data": {
      "application/vnd.holoviews_exec.v0+json": "",
      "text/html": [
       "<div id='6104'>\n",
       "\n",
       "\n",
       "\n",
       "\n",
       "\n",
       "  <div class=\"bk-root\" id=\"667e06c9-7624-4f11-bf11-c92273e75945\" data-root-id=\"6104\"></div>\n",
       "</div>\n",
       "<script type=\"application/javascript\">(function(root) {\n",
       "  function embed_document(root) {\n",
       "  var docs_json = {\"1fbb55a3-0728-477a-86d0-51d5d08c17e6\":{\"roots\":{\"references\":[{\"attributes\":{\"base\":24,\"mantissas\":[1,2,4,6,8,12],\"max_interval\":43200000.0,\"min_interval\":3600000.0,\"num_minor_ticks\":0},\"id\":\"6161\",\"type\":\"AdaptiveTicker\"},{\"attributes\":{\"align\":null,\"below\":[{\"id\":\"6118\"}],\"center\":[{\"id\":\"6121\"},{\"id\":\"6125\"}],\"left\":[{\"id\":\"6122\"}],\"margin\":null,\"min_border_bottom\":10,\"min_border_left\":10,\"min_border_right\":10,\"min_border_top\":10,\"plot_height\":300,\"plot_width\":700,\"renderers\":[{\"id\":\"6145\"}],\"sizing_mode\":\"fixed\",\"title\":{\"id\":\"6110\"},\"toolbar\":{\"id\":\"6132\"},\"x_range\":{\"id\":\"6106\"},\"x_scale\":{\"id\":\"6114\"},\"y_range\":{\"id\":\"6107\"},\"y_scale\":{\"id\":\"6116\"}},\"id\":\"6109\",\"subtype\":\"Figure\",\"type\":\"Plot\"},{\"attributes\":{\"days\":[1,2,3,4,5,6,7,8,9,10,11,12,13,14,15,16,17,18,19,20,21,22,23,24,25,26,27,28,29,30,31]},\"id\":\"6162\",\"type\":\"DaysTicker\"},{\"attributes\":{},\"id\":\"6140\",\"type\":\"Selection\"},{\"attributes\":{\"axis\":{\"id\":\"6122\"},\"dimension\":1,\"grid_line_color\":null,\"ticker\":null},\"id\":\"6125\",\"type\":\"Grid\"},{\"attributes\":{\"active_drag\":\"auto\",\"active_inspect\":\"auto\",\"active_multi\":null,\"active_scroll\":\"auto\",\"active_tap\":\"auto\",\"tools\":[{\"id\":\"6108\"},{\"id\":\"6126\"},{\"id\":\"6127\"},{\"id\":\"6128\"},{\"id\":\"6129\"},{\"id\":\"6130\"}]},\"id\":\"6132\",\"type\":\"Toolbar\"},{\"attributes\":{\"axis_label\":\"Date\",\"bounds\":\"auto\",\"formatter\":{\"id\":\"6148\"},\"major_label_orientation\":\"horizontal\",\"ticker\":{\"id\":\"6119\"}},\"id\":\"6118\",\"type\":\"DatetimeAxis\"},{\"attributes\":{\"overlay\":{\"id\":\"6131\"}},\"id\":\"6129\",\"type\":\"BoxZoomTool\"},{\"attributes\":{},\"id\":\"6126\",\"type\":\"SaveTool\"},{\"attributes\":{\"bottom_units\":\"screen\",\"fill_alpha\":0.5,\"fill_color\":\"lightgrey\",\"left_units\":\"screen\",\"level\":\"overlay\",\"line_alpha\":1.0,\"line_color\":\"black\",\"line_dash\":[4,4],\"line_width\":2,\"right_units\":\"screen\",\"top_units\":\"screen\"},\"id\":\"6131\",\"type\":\"BoxAnnotation\"},{\"attributes\":{\"margin\":[5,5,5,5],\"name\":\"HSpacer06282\",\"sizing_mode\":\"stretch_width\"},\"id\":\"6191\",\"type\":\"Spacer\"},{\"attributes\":{\"text\":\"Unemployment During the Clinton Presidency\",\"text_color\":{\"value\":\"black\"},\"text_font_size\":{\"value\":\"12pt\"}},\"id\":\"6110\",\"type\":\"Title\"},{\"attributes\":{\"line_alpha\":0.2,\"line_color\":\"aqua\",\"line_width\":2,\"x\":{\"field\":\"Date\"},\"y\":{\"field\":\"Unemployment\"}},\"id\":\"6144\",\"type\":\"Line\"},{\"attributes\":{},\"id\":\"6170\",\"type\":\"YearsTicker\"},{\"attributes\":{\"axis_label\":\"Unemployment\",\"bounds\":\"auto\",\"formatter\":{\"id\":\"6150\"},\"major_label_orientation\":\"horizontal\",\"ticker\":{\"id\":\"6123\"}},\"id\":\"6122\",\"type\":\"LinearAxis\"},{\"attributes\":{\"base\":60,\"mantissas\":[1,2,5,10,15,20,30],\"max_interval\":1800000.0,\"min_interval\":1000.0,\"num_minor_ticks\":0},\"id\":\"6160\",\"type\":\"AdaptiveTicker\"},{\"attributes\":{\"data_source\":{\"id\":\"6139\"},\"glyph\":{\"id\":\"6142\"},\"hover_glyph\":null,\"muted_glyph\":{\"id\":\"6144\"},\"nonselection_glyph\":{\"id\":\"6143\"},\"selection_glyph\":null,\"view\":{\"id\":\"6146\"}},\"id\":\"6145\",\"type\":\"GlyphRenderer\"},{\"attributes\":{\"num_minor_ticks\":5,\"tickers\":[{\"id\":\"6159\"},{\"id\":\"6160\"},{\"id\":\"6161\"},{\"id\":\"6162\"},{\"id\":\"6163\"},{\"id\":\"6164\"},{\"id\":\"6165\"},{\"id\":\"6166\"},{\"id\":\"6167\"},{\"id\":\"6168\"},{\"id\":\"6169\"},{\"id\":\"6170\"}]},\"id\":\"6119\",\"type\":\"DatetimeTicker\"},{\"attributes\":{},\"id\":\"6158\",\"type\":\"UnionRenderers\"},{\"attributes\":{\"months\":[0,1,2,3,4,5,6,7,8,9,10,11]},\"id\":\"6166\",\"type\":\"MonthsTicker\"},{\"attributes\":{},\"id\":\"6116\",\"type\":\"LinearScale\"},{\"attributes\":{},\"id\":\"6130\",\"type\":\"ResetTool\"},{\"attributes\":{},\"id\":\"6128\",\"type\":\"WheelZoomTool\"},{\"attributes\":{\"days\":[1,15]},\"id\":\"6165\",\"type\":\"DaysTicker\"},{\"attributes\":{},\"id\":\"6123\",\"type\":\"BasicTicker\"},{\"attributes\":{\"data\":{\"Date\":{\"__ndarray__\":\"AACAI/ofZUIAAABJ8ApmQgAAgG7m9WZCAAAAlNzgZ0IAAACFd8xoQgAAgKptt2lCAAAA0GOiakIAAID1WY1rQg==\",\"dtype\":\"float64\",\"order\":\"little\",\"shape\":[8]},\"Unemployment\":{\"__ndarray__\":\"MzMzMzMzHUBmZmZmZmYaQGZmZmZmZhZAZmZmZmZmFkAzMzMzMzMVQGZmZmZmZhJAMzMzMzMzEUAAAAAAAAAQQA==\",\"dtype\":\"float64\",\"order\":\"little\",\"shape\":[8]}},\"selected\":{\"id\":\"6140\"},\"selection_policy\":{\"id\":\"6158\"}},\"id\":\"6139\",\"type\":\"ColumnDataSource\"},{\"attributes\":{\"days\":[1,8,15,22]},\"id\":\"6164\",\"type\":\"DaysTicker\"},{\"attributes\":{\"margin\":[5,5,5,5],\"name\":\"HSpacer06281\",\"sizing_mode\":\"stretch_width\"},\"id\":\"6105\",\"type\":\"Spacer\"},{\"attributes\":{\"end\":946684800000.0,\"reset_end\":946684800000.0,\"reset_start\":725846400000.0,\"start\":725846400000.0,\"tags\":[[[\"Date\",\"Date\",null]]]},\"id\":\"6106\",\"type\":\"Range1d\"},{\"attributes\":{\"source\":{\"id\":\"6139\"}},\"id\":\"6146\",\"type\":\"CDSView\"},{\"attributes\":{\"mantissas\":[1,2,5],\"max_interval\":500.0,\"num_minor_ticks\":0},\"id\":\"6159\",\"type\":\"AdaptiveTicker\"},{\"attributes\":{\"children\":[{\"id\":\"6105\"},{\"id\":\"6109\"},{\"id\":\"6191\"}],\"margin\":[0,0,0,0],\"name\":\"Row06277\",\"tags\":[\"embedded\"]},\"id\":\"6104\",\"type\":\"Row\"},{\"attributes\":{\"months\":[0,6]},\"id\":\"6169\",\"type\":\"MonthsTicker\"},{\"attributes\":{\"days\":[1,4,7,10,13,16,19,22,25,28]},\"id\":\"6163\",\"type\":\"DaysTicker\"},{\"attributes\":{\"end\":7.63,\"reset_end\":7.63,\"reset_start\":3.67,\"start\":3.67,\"tags\":[[[\"Unemployment\",\"Unemployment\",null]]]},\"id\":\"6107\",\"type\":\"Range1d\"},{\"attributes\":{\"line_color\":\"aqua\",\"line_width\":2,\"x\":{\"field\":\"Date\"},\"y\":{\"field\":\"Unemployment\"}},\"id\":\"6142\",\"type\":\"Line\"},{\"attributes\":{\"months\":[0,2,4,6,8,10]},\"id\":\"6167\",\"type\":\"MonthsTicker\"},{\"attributes\":{\"callback\":null,\"formatters\":{\"@{Date}\":\"datetime\"},\"renderers\":[{\"id\":\"6145\"}],\"tags\":[\"hv_created\"],\"tooltips\":[[\"Date\",\"@{Date}{%F %T}\"],[\"Unemployment\",\"@{Unemployment}\"]]},\"id\":\"6108\",\"type\":\"HoverTool\"},{\"attributes\":{},\"id\":\"6127\",\"type\":\"PanTool\"},{\"attributes\":{\"line_alpha\":0.1,\"line_color\":\"aqua\",\"line_width\":2,\"x\":{\"field\":\"Date\"},\"y\":{\"field\":\"Unemployment\"}},\"id\":\"6143\",\"type\":\"Line\"},{\"attributes\":{},\"id\":\"6148\",\"type\":\"DatetimeTickFormatter\"},{\"attributes\":{\"months\":[0,4,8]},\"id\":\"6168\",\"type\":\"MonthsTicker\"},{\"attributes\":{\"axis\":{\"id\":\"6118\"},\"grid_line_color\":null,\"ticker\":null},\"id\":\"6121\",\"type\":\"Grid\"},{\"attributes\":{},\"id\":\"6114\",\"type\":\"LinearScale\"},{\"attributes\":{},\"id\":\"6150\",\"type\":\"BasicTickFormatter\"}],\"root_ids\":[\"6104\"]},\"title\":\"Bokeh Application\",\"version\":\"2.1.1\"}};\n",
       "  var render_items = [{\"docid\":\"1fbb55a3-0728-477a-86d0-51d5d08c17e6\",\"root_ids\":[\"6104\"],\"roots\":{\"6104\":\"667e06c9-7624-4f11-bf11-c92273e75945\"}}];\n",
       "  root.Bokeh.embed.embed_items_notebook(docs_json, render_items);\n",
       "  }\n",
       "if (root.Bokeh !== undefined) {\n",
       "    embed_document(root);\n",
       "  } else {\n",
       "    var attempts = 0;\n",
       "    var timer = setInterval(function(root) {\n",
       "      if (root.Bokeh !== undefined) {\n",
       "        clearInterval(timer);\n",
       "        embed_document(root);\n",
       "      } else if (document.readyState == \"complete\") {\n",
       "        attempts++;\n",
       "        if (attempts > 100) {\n",
       "          clearInterval(timer);\n",
       "          console.log(\"Bokeh: ERROR: Unable to run BokehJS code because BokehJS library is missing\");\n",
       "        }\n",
       "      }\n",
       "    }, 10, root)\n",
       "  }\n",
       "})(window);</script>"
      ],
      "text/plain": [
       ":Curve   [Date]   (Unemployment)"
      ]
     },
     "execution_count": 106,
     "metadata": {
      "application/vnd.holoviews_exec.v0+json": {
       "id": "6104"
      }
     },
     "output_type": "execute_result"
    }
   ],
   "source": [
    "clinton_plot = clinton.hvplot.line(x = 'Date', y = 'Unemployment', title = 'Unemployment During the Clinton Presidency', color = 'aqua')\n",
    "clinton_plot\n",
    "#clinton_column =  pn.Column(clinton_plot)"
   ]
  },
  {
   "cell_type": "code",
   "execution_count": 107,
   "metadata": {},
   "outputs": [
    {
     "data": {
      "text/html": [
       "<div>\n",
       "<style scoped>\n",
       "    .dataframe tbody tr th:only-of-type {\n",
       "        vertical-align: middle;\n",
       "    }\n",
       "\n",
       "    .dataframe tbody tr th {\n",
       "        vertical-align: top;\n",
       "    }\n",
       "\n",
       "    .dataframe thead th {\n",
       "        text-align: right;\n",
       "    }\n",
       "</style>\n",
       "<table border=\"1\" class=\"dataframe\">\n",
       "  <thead>\n",
       "    <tr style=\"text-align: right;\">\n",
       "      <th></th>\n",
       "      <th>Unemployment</th>\n",
       "    </tr>\n",
       "    <tr>\n",
       "      <th>Date</th>\n",
       "      <th></th>\n",
       "    </tr>\n",
       "  </thead>\n",
       "  <tbody>\n",
       "    <tr>\n",
       "      <th>2001-01-01</th>\n",
       "      <td>4.2</td>\n",
       "    </tr>\n",
       "    <tr>\n",
       "      <th>2002-01-01</th>\n",
       "      <td>5.7</td>\n",
       "    </tr>\n",
       "    <tr>\n",
       "      <th>2003-01-01</th>\n",
       "      <td>5.8</td>\n",
       "    </tr>\n",
       "    <tr>\n",
       "      <th>2004-01-01</th>\n",
       "      <td>5.7</td>\n",
       "    </tr>\n",
       "    <tr>\n",
       "      <th>2005-01-01</th>\n",
       "      <td>5.3</td>\n",
       "    </tr>\n",
       "    <tr>\n",
       "      <th>2006-01-01</th>\n",
       "      <td>4.7</td>\n",
       "    </tr>\n",
       "    <tr>\n",
       "      <th>2007-01-01</th>\n",
       "      <td>4.6</td>\n",
       "    </tr>\n",
       "    <tr>\n",
       "      <th>2008-01-01</th>\n",
       "      <td>5.0</td>\n",
       "    </tr>\n",
       "  </tbody>\n",
       "</table>\n",
       "</div>"
      ],
      "text/plain": [
       "            Unemployment\n",
       "Date                    \n",
       "2001-01-01           4.2\n",
       "2002-01-01           5.7\n",
       "2003-01-01           5.8\n",
       "2004-01-01           5.7\n",
       "2005-01-01           5.3\n",
       "2006-01-01           4.7\n",
       "2007-01-01           4.6\n",
       "2008-01-01           5.0"
      ]
     },
     "execution_count": 107,
     "metadata": {},
     "output_type": "execute_result"
    }
   ],
   "source": [
    "bush_jr = unemployment_data.iloc[20:28]\n",
    "bush_jr"
   ]
  },
  {
   "cell_type": "code",
   "execution_count": 108,
   "metadata": {},
   "outputs": [
    {
     "data": {
      "application/vnd.holoviews_exec.v0+json": "",
      "text/html": [
       "<div id='6293'>\n",
       "\n",
       "\n",
       "\n",
       "\n",
       "\n",
       "  <div class=\"bk-root\" id=\"cbc1f5a8-e7d5-4291-8fb3-017b8eeaeb36\" data-root-id=\"6293\"></div>\n",
       "</div>\n",
       "<script type=\"application/javascript\">(function(root) {\n",
       "  function embed_document(root) {\n",
       "  var docs_json = {\"b3059ed8-9687-40e0-8317-ba3152211856\":{\"roots\":{\"references\":[{\"attributes\":{\"data_source\":{\"id\":\"6328\"},\"glyph\":{\"id\":\"6331\"},\"hover_glyph\":null,\"muted_glyph\":{\"id\":\"6333\"},\"nonselection_glyph\":{\"id\":\"6332\"},\"selection_glyph\":null,\"view\":{\"id\":\"6335\"}},\"id\":\"6334\",\"type\":\"GlyphRenderer\"},{\"attributes\":{},\"id\":\"6339\",\"type\":\"BasicTickFormatter\"},{\"attributes\":{\"line_color\":\"aqua\",\"line_width\":2,\"x\":{\"field\":\"Date\"},\"y\":{\"field\":\"Unemployment\"}},\"id\":\"6331\",\"type\":\"Line\"},{\"attributes\":{\"num_minor_ticks\":5,\"tickers\":[{\"id\":\"6348\"},{\"id\":\"6349\"},{\"id\":\"6350\"},{\"id\":\"6351\"},{\"id\":\"6352\"},{\"id\":\"6353\"},{\"id\":\"6354\"},{\"id\":\"6355\"},{\"id\":\"6356\"},{\"id\":\"6357\"},{\"id\":\"6358\"},{\"id\":\"6359\"}]},\"id\":\"6308\",\"type\":\"DatetimeTicker\"},{\"attributes\":{\"children\":[{\"id\":\"6294\"},{\"id\":\"6298\"},{\"id\":\"6380\"}],\"margin\":[0,0,0,0],\"name\":\"Row06453\",\"tags\":[\"embedded\"]},\"id\":\"6293\",\"type\":\"Row\"},{\"attributes\":{},\"id\":\"6315\",\"type\":\"SaveTool\"},{\"attributes\":{\"line_alpha\":0.2,\"line_color\":\"aqua\",\"line_width\":2,\"x\":{\"field\":\"Date\"},\"y\":{\"field\":\"Unemployment\"}},\"id\":\"6333\",\"type\":\"Line\"},{\"attributes\":{\"margin\":[5,5,5,5],\"name\":\"HSpacer06457\",\"sizing_mode\":\"stretch_width\"},\"id\":\"6294\",\"type\":\"Spacer\"},{\"attributes\":{\"align\":null,\"below\":[{\"id\":\"6307\"}],\"center\":[{\"id\":\"6310\"},{\"id\":\"6314\"}],\"left\":[{\"id\":\"6311\"}],\"margin\":null,\"min_border_bottom\":10,\"min_border_left\":10,\"min_border_right\":10,\"min_border_top\":10,\"plot_height\":300,\"plot_width\":700,\"renderers\":[{\"id\":\"6334\"}],\"sizing_mode\":\"fixed\",\"title\":{\"id\":\"6299\"},\"toolbar\":{\"id\":\"6321\"},\"x_range\":{\"id\":\"6295\"},\"x_scale\":{\"id\":\"6303\"},\"y_range\":{\"id\":\"6296\"},\"y_scale\":{\"id\":\"6305\"}},\"id\":\"6298\",\"subtype\":\"Figure\",\"type\":\"Plot\"},{\"attributes\":{},\"id\":\"6329\",\"type\":\"Selection\"},{\"attributes\":{},\"id\":\"6359\",\"type\":\"YearsTicker\"},{\"attributes\":{\"data\":{\"Date\":{\"__ndarray__\":\"AACA5vR4bEIAAAAM62NtQgAAgDHhTm5CAAAAV9c5b0IAAAAkuRJwQgAAwDY0iHBCAACASa/9cEIAAEBcKnNxQg==\",\"dtype\":\"float64\",\"order\":\"little\",\"shape\":[8]},\"Unemployment\":{\"__ndarray__\":\"zczMzMzMEEDNzMzMzMwWQDMzMzMzMxdAzczMzMzMFkAzMzMzMzMVQM3MzMzMzBJAZmZmZmZmEkAAAAAAAAAUQA==\",\"dtype\":\"float64\",\"order\":\"little\",\"shape\":[8]}},\"selected\":{\"id\":\"6329\"},\"selection_policy\":{\"id\":\"6347\"}},\"id\":\"6328\",\"type\":\"ColumnDataSource\"},{\"attributes\":{},\"id\":\"6337\",\"type\":\"DatetimeTickFormatter\"},{\"attributes\":{},\"id\":\"6305\",\"type\":\"LinearScale\"},{\"attributes\":{\"axis\":{\"id\":\"6311\"},\"dimension\":1,\"grid_line_color\":null,\"ticker\":null},\"id\":\"6314\",\"type\":\"Grid\"},{\"attributes\":{\"end\":1199145600000.0,\"reset_end\":1199145600000.0,\"reset_start\":978307200000.0,\"start\":978307200000.0,\"tags\":[[[\"Date\",\"Date\",null]]]},\"id\":\"6295\",\"type\":\"Range1d\"},{\"attributes\":{\"axis_label\":\"Date\",\"bounds\":\"auto\",\"formatter\":{\"id\":\"6337\"},\"major_label_orientation\":\"horizontal\",\"ticker\":{\"id\":\"6308\"}},\"id\":\"6307\",\"type\":\"DatetimeAxis\"},{\"attributes\":{},\"id\":\"6347\",\"type\":\"UnionRenderers\"},{\"attributes\":{\"axis_label\":\"Unemployment\",\"bounds\":\"auto\",\"formatter\":{\"id\":\"6339\"},\"major_label_orientation\":\"horizontal\",\"ticker\":{\"id\":\"6312\"}},\"id\":\"6311\",\"type\":\"LinearAxis\"},{\"attributes\":{\"months\":[0,6]},\"id\":\"6358\",\"type\":\"MonthsTicker\"},{\"attributes\":{},\"id\":\"6319\",\"type\":\"ResetTool\"},{\"attributes\":{\"months\":[0,4,8]},\"id\":\"6357\",\"type\":\"MonthsTicker\"},{\"attributes\":{\"overlay\":{\"id\":\"6320\"}},\"id\":\"6318\",\"type\":\"BoxZoomTool\"},{\"attributes\":{\"base\":24,\"mantissas\":[1,2,4,6,8,12],\"max_interval\":43200000.0,\"min_interval\":3600000.0,\"num_minor_ticks\":0},\"id\":\"6350\",\"type\":\"AdaptiveTicker\"},{\"attributes\":{\"months\":[0,1,2,3,4,5,6,7,8,9,10,11]},\"id\":\"6355\",\"type\":\"MonthsTicker\"},{\"attributes\":{\"base\":60,\"mantissas\":[1,2,5,10,15,20,30],\"max_interval\":1800000.0,\"min_interval\":1000.0,\"num_minor_ticks\":0},\"id\":\"6349\",\"type\":\"AdaptiveTicker\"},{\"attributes\":{\"days\":[1,4,7,10,13,16,19,22,25,28]},\"id\":\"6352\",\"type\":\"DaysTicker\"},{\"attributes\":{\"months\":[0,2,4,6,8,10]},\"id\":\"6356\",\"type\":\"MonthsTicker\"},{\"attributes\":{\"active_drag\":\"auto\",\"active_inspect\":\"auto\",\"active_multi\":null,\"active_scroll\":\"auto\",\"active_tap\":\"auto\",\"tools\":[{\"id\":\"6297\"},{\"id\":\"6315\"},{\"id\":\"6316\"},{\"id\":\"6317\"},{\"id\":\"6318\"},{\"id\":\"6319\"}]},\"id\":\"6321\",\"type\":\"Toolbar\"},{\"attributes\":{\"source\":{\"id\":\"6328\"}},\"id\":\"6335\",\"type\":\"CDSView\"},{\"attributes\":{\"bottom_units\":\"screen\",\"fill_alpha\":0.5,\"fill_color\":\"lightgrey\",\"left_units\":\"screen\",\"level\":\"overlay\",\"line_alpha\":1.0,\"line_color\":\"black\",\"line_dash\":[4,4],\"line_width\":2,\"right_units\":\"screen\",\"top_units\":\"screen\"},\"id\":\"6320\",\"type\":\"BoxAnnotation\"},{\"attributes\":{\"end\":5.96,\"reset_end\":5.96,\"reset_start\":4.04,\"start\":4.04,\"tags\":[[[\"Unemployment\",\"Unemployment\",null]]]},\"id\":\"6296\",\"type\":\"Range1d\"},{\"attributes\":{\"callback\":null,\"formatters\":{\"@{Date}\":\"datetime\"},\"renderers\":[{\"id\":\"6334\"}],\"tags\":[\"hv_created\"],\"tooltips\":[[\"Date\",\"@{Date}{%F %T}\"],[\"Unemployment\",\"@{Unemployment}\"]]},\"id\":\"6297\",\"type\":\"HoverTool\"},{\"attributes\":{\"text\":\"Unemployment During the G.W. Bush Presidency\",\"text_color\":{\"value\":\"black\"},\"text_font_size\":{\"value\":\"12pt\"}},\"id\":\"6299\",\"type\":\"Title\"},{\"attributes\":{\"days\":[1,15]},\"id\":\"6354\",\"type\":\"DaysTicker\"},{\"attributes\":{},\"id\":\"6316\",\"type\":\"PanTool\"},{\"attributes\":{\"margin\":[5,5,5,5],\"name\":\"HSpacer06458\",\"sizing_mode\":\"stretch_width\"},\"id\":\"6380\",\"type\":\"Spacer\"},{\"attributes\":{\"axis\":{\"id\":\"6307\"},\"grid_line_color\":null,\"ticker\":null},\"id\":\"6310\",\"type\":\"Grid\"},{\"attributes\":{\"mantissas\":[1,2,5],\"max_interval\":500.0,\"num_minor_ticks\":0},\"id\":\"6348\",\"type\":\"AdaptiveTicker\"},{\"attributes\":{\"days\":[1,2,3,4,5,6,7,8,9,10,11,12,13,14,15,16,17,18,19,20,21,22,23,24,25,26,27,28,29,30,31]},\"id\":\"6351\",\"type\":\"DaysTicker\"},{\"attributes\":{\"line_alpha\":0.1,\"line_color\":\"aqua\",\"line_width\":2,\"x\":{\"field\":\"Date\"},\"y\":{\"field\":\"Unemployment\"}},\"id\":\"6332\",\"type\":\"Line\"},{\"attributes\":{\"days\":[1,8,15,22]},\"id\":\"6353\",\"type\":\"DaysTicker\"},{\"attributes\":{},\"id\":\"6312\",\"type\":\"BasicTicker\"},{\"attributes\":{},\"id\":\"6317\",\"type\":\"WheelZoomTool\"},{\"attributes\":{},\"id\":\"6303\",\"type\":\"LinearScale\"}],\"root_ids\":[\"6293\"]},\"title\":\"Bokeh Application\",\"version\":\"2.1.1\"}};\n",
       "  var render_items = [{\"docid\":\"b3059ed8-9687-40e0-8317-ba3152211856\",\"root_ids\":[\"6293\"],\"roots\":{\"6293\":\"cbc1f5a8-e7d5-4291-8fb3-017b8eeaeb36\"}}];\n",
       "  root.Bokeh.embed.embed_items_notebook(docs_json, render_items);\n",
       "  }\n",
       "if (root.Bokeh !== undefined) {\n",
       "    embed_document(root);\n",
       "  } else {\n",
       "    var attempts = 0;\n",
       "    var timer = setInterval(function(root) {\n",
       "      if (root.Bokeh !== undefined) {\n",
       "        clearInterval(timer);\n",
       "        embed_document(root);\n",
       "      } else if (document.readyState == \"complete\") {\n",
       "        attempts++;\n",
       "        if (attempts > 100) {\n",
       "          clearInterval(timer);\n",
       "          console.log(\"Bokeh: ERROR: Unable to run BokehJS code because BokehJS library is missing\");\n",
       "        }\n",
       "      }\n",
       "    }, 10, root)\n",
       "  }\n",
       "})(window);</script>"
      ],
      "text/plain": [
       ":Curve   [Date]   (Unemployment)"
      ]
     },
     "execution_count": 108,
     "metadata": {
      "application/vnd.holoviews_exec.v0+json": {
       "id": "6293"
      }
     },
     "output_type": "execute_result"
    }
   ],
   "source": [
    "bush_jr_plot = bush_jr.hvplot.line(x = 'Date', y = 'Unemployment', title = 'Unemployment During the G.W. Bush Presidency', color = 'aqua')\n",
    "bush_jr_plot\n",
    "#bush_jr_column =  pn.Column(bush_jr_plot)"
   ]
  },
  {
   "cell_type": "code",
   "execution_count": 109,
   "metadata": {},
   "outputs": [
    {
     "data": {
      "text/html": [
       "<div>\n",
       "<style scoped>\n",
       "    .dataframe tbody tr th:only-of-type {\n",
       "        vertical-align: middle;\n",
       "    }\n",
       "\n",
       "    .dataframe tbody tr th {\n",
       "        vertical-align: top;\n",
       "    }\n",
       "\n",
       "    .dataframe thead th {\n",
       "        text-align: right;\n",
       "    }\n",
       "</style>\n",
       "<table border=\"1\" class=\"dataframe\">\n",
       "  <thead>\n",
       "    <tr style=\"text-align: right;\">\n",
       "      <th></th>\n",
       "      <th>Unemployment</th>\n",
       "    </tr>\n",
       "    <tr>\n",
       "      <th>Date</th>\n",
       "      <th></th>\n",
       "    </tr>\n",
       "  </thead>\n",
       "  <tbody>\n",
       "    <tr>\n",
       "      <th>2009-01-01</th>\n",
       "      <td>7.8</td>\n",
       "    </tr>\n",
       "    <tr>\n",
       "      <th>2010-01-01</th>\n",
       "      <td>9.8</td>\n",
       "    </tr>\n",
       "    <tr>\n",
       "      <th>2011-01-01</th>\n",
       "      <td>9.1</td>\n",
       "    </tr>\n",
       "    <tr>\n",
       "      <th>2012-01-01</th>\n",
       "      <td>8.3</td>\n",
       "    </tr>\n",
       "    <tr>\n",
       "      <th>2013-01-01</th>\n",
       "      <td>8.0</td>\n",
       "    </tr>\n",
       "    <tr>\n",
       "      <th>2014-01-01</th>\n",
       "      <td>6.6</td>\n",
       "    </tr>\n",
       "    <tr>\n",
       "      <th>2015-01-01</th>\n",
       "      <td>5.7</td>\n",
       "    </tr>\n",
       "    <tr>\n",
       "      <th>2016-01-01</th>\n",
       "      <td>4.9</td>\n",
       "    </tr>\n",
       "  </tbody>\n",
       "</table>\n",
       "</div>"
      ],
      "text/plain": [
       "            Unemployment\n",
       "Date                    \n",
       "2009-01-01           7.8\n",
       "2010-01-01           9.8\n",
       "2011-01-01           9.1\n",
       "2012-01-01           8.3\n",
       "2013-01-01           8.0\n",
       "2014-01-01           6.6\n",
       "2015-01-01           5.7\n",
       "2016-01-01           4.9"
      ]
     },
     "execution_count": 109,
     "metadata": {},
     "output_type": "execute_result"
    }
   ],
   "source": [
    "obama = unemployment_data.iloc[28:36]\n",
    "obama"
   ]
  },
  {
   "cell_type": "code",
   "execution_count": 110,
   "metadata": {},
   "outputs": [
    {
     "data": {
      "application/vnd.holoviews_exec.v0+json": "",
      "text/html": [
       "<div id='6482'>\n",
       "\n",
       "\n",
       "\n",
       "\n",
       "\n",
       "  <div class=\"bk-root\" id=\"c4f7fef0-674c-4dbe-8b6e-195a30d6b1f9\" data-root-id=\"6482\"></div>\n",
       "</div>\n",
       "<script type=\"application/javascript\">(function(root) {\n",
       "  function embed_document(root) {\n",
       "  var docs_json = {\"92d78451-f1f0-4395-a083-ced5c6db7311\":{\"roots\":{\"references\":[{\"attributes\":{\"margin\":[5,5,5,5],\"name\":\"HSpacer06633\",\"sizing_mode\":\"stretch_width\"},\"id\":\"6483\",\"type\":\"Spacer\"},{\"attributes\":{\"line_alpha\":0.1,\"line_color\":\"aqua\",\"line_width\":2,\"x\":{\"field\":\"Date\"},\"y\":{\"field\":\"Unemployment\"}},\"id\":\"6521\",\"type\":\"Line\"},{\"attributes\":{\"bottom_units\":\"screen\",\"fill_alpha\":0.5,\"fill_color\":\"lightgrey\",\"left_units\":\"screen\",\"level\":\"overlay\",\"line_alpha\":1.0,\"line_color\":\"black\",\"line_dash\":[4,4],\"line_width\":2,\"right_units\":\"screen\",\"top_units\":\"screen\"},\"id\":\"6509\",\"type\":\"BoxAnnotation\"},{\"attributes\":{\"base\":60,\"mantissas\":[1,2,5,10,15,20,30],\"max_interval\":1800000.0,\"min_interval\":1000.0,\"num_minor_ticks\":0},\"id\":\"6538\",\"type\":\"AdaptiveTicker\"},{\"attributes\":{},\"id\":\"6508\",\"type\":\"ResetTool\"},{\"attributes\":{\"data_source\":{\"id\":\"6517\"},\"glyph\":{\"id\":\"6520\"},\"hover_glyph\":null,\"muted_glyph\":{\"id\":\"6522\"},\"nonselection_glyph\":{\"id\":\"6521\"},\"selection_glyph\":null,\"view\":{\"id\":\"6524\"}},\"id\":\"6523\",\"type\":\"GlyphRenderer\"},{\"attributes\":{\"text\":\"Unemployment During the Obama Presidency\",\"text_color\":{\"value\":\"black\"},\"text_font_size\":{\"value\":\"12pt\"}},\"id\":\"6488\",\"type\":\"Title\"},{\"attributes\":{},\"id\":\"6506\",\"type\":\"WheelZoomTool\"},{\"attributes\":{\"children\":[{\"id\":\"6483\"},{\"id\":\"6487\"},{\"id\":\"6569\"}],\"margin\":[0,0,0,0],\"name\":\"Row06629\",\"tags\":[\"embedded\"]},\"id\":\"6482\",\"type\":\"Row\"},{\"attributes\":{\"axis_label\":\"Date\",\"bounds\":\"auto\",\"formatter\":{\"id\":\"6526\"},\"major_label_orientation\":\"horizontal\",\"ticker\":{\"id\":\"6497\"}},\"id\":\"6496\",\"type\":\"DatetimeAxis\"},{\"attributes\":{\"line_alpha\":0.2,\"line_color\":\"aqua\",\"line_width\":2,\"x\":{\"field\":\"Date\"},\"y\":{\"field\":\"Unemployment\"}},\"id\":\"6522\",\"type\":\"Line\"},{\"attributes\":{\"end\":1451606400000.0,\"reset_end\":1451606400000.0,\"reset_start\":1230768000000.0,\"start\":1230768000000.0,\"tags\":[[[\"Date\",\"Date\",null]]]},\"id\":\"6484\",\"type\":\"Range1d\"},{\"attributes\":{\"overlay\":{\"id\":\"6509\"}},\"id\":\"6507\",\"type\":\"BoxZoomTool\"},{\"attributes\":{\"months\":[0,4,8]},\"id\":\"6546\",\"type\":\"MonthsTicker\"},{\"attributes\":{\"end\":10.290000000000001,\"reset_end\":10.290000000000001,\"reset_start\":4.41,\"start\":4.41,\"tags\":[[[\"Unemployment\",\"Unemployment\",null]]]},\"id\":\"6485\",\"type\":\"Range1d\"},{\"attributes\":{},\"id\":\"6526\",\"type\":\"DatetimeTickFormatter\"},{\"attributes\":{},\"id\":\"6518\",\"type\":\"Selection\"},{\"attributes\":{\"days\":[1,15]},\"id\":\"6543\",\"type\":\"DaysTicker\"},{\"attributes\":{\"months\":[0,1,2,3,4,5,6,7,8,9,10,11]},\"id\":\"6544\",\"type\":\"MonthsTicker\"},{\"attributes\":{\"line_color\":\"aqua\",\"line_width\":2,\"x\":{\"field\":\"Date\"},\"y\":{\"field\":\"Unemployment\"}},\"id\":\"6520\",\"type\":\"Line\"},{\"attributes\":{\"mantissas\":[1,2,5],\"max_interval\":500.0,\"num_minor_ticks\":0},\"id\":\"6537\",\"type\":\"AdaptiveTicker\"},{\"attributes\":{\"align\":null,\"below\":[{\"id\":\"6496\"}],\"center\":[{\"id\":\"6499\"},{\"id\":\"6503\"}],\"left\":[{\"id\":\"6500\"}],\"margin\":null,\"min_border_bottom\":10,\"min_border_left\":10,\"min_border_right\":10,\"min_border_top\":10,\"plot_height\":300,\"plot_width\":700,\"renderers\":[{\"id\":\"6523\"}],\"sizing_mode\":\"fixed\",\"title\":{\"id\":\"6488\"},\"toolbar\":{\"id\":\"6510\"},\"x_range\":{\"id\":\"6484\"},\"x_scale\":{\"id\":\"6492\"},\"y_range\":{\"id\":\"6485\"},\"y_scale\":{\"id\":\"6494\"}},\"id\":\"6487\",\"subtype\":\"Figure\",\"type\":\"Plot\"},{\"attributes\":{},\"id\":\"6501\",\"type\":\"BasicTicker\"},{\"attributes\":{},\"id\":\"6492\",\"type\":\"LinearScale\"},{\"attributes\":{\"callback\":null,\"formatters\":{\"@{Date}\":\"datetime\"},\"renderers\":[{\"id\":\"6523\"}],\"tags\":[\"hv_created\"],\"tooltips\":[[\"Date\",\"@{Date}{%F %T}\"],[\"Unemployment\",\"@{Unemployment}\"]]},\"id\":\"6486\",\"type\":\"HoverTool\"},{\"attributes\":{\"source\":{\"id\":\"6517\"}},\"id\":\"6524\",\"type\":\"CDSView\"},{\"attributes\":{},\"id\":\"6528\",\"type\":\"BasicTickFormatter\"},{\"attributes\":{\"days\":[1,4,7,10,13,16,19,22,25,28]},\"id\":\"6541\",\"type\":\"DaysTicker\"},{\"attributes\":{\"axis\":{\"id\":\"6496\"},\"grid_line_color\":null,\"ticker\":null},\"id\":\"6499\",\"type\":\"Grid\"},{\"attributes\":{\"data\":{\"Date\":{\"__ndarray__\":\"AADA1PfocUIAAIDncl5yQgAAQPrt03JCAAAADWlJc0IAAICFNr9zQgAAQJixNHRCAAAAqyyqdEIAAMC9px91Qg==\",\"dtype\":\"float64\",\"order\":\"little\",\"shape\":[8]},\"Unemployment\":{\"__ndarray__\":\"MzMzMzMzH0CamZmZmZkjQDMzMzMzMyJAmpmZmZmZIEAAAAAAAAAgQGZmZmZmZhpAzczMzMzMFkCamZmZmZkTQA==\",\"dtype\":\"float64\",\"order\":\"little\",\"shape\":[8]}},\"selected\":{\"id\":\"6518\"},\"selection_policy\":{\"id\":\"6536\"}},\"id\":\"6517\",\"type\":\"ColumnDataSource\"},{\"attributes\":{},\"id\":\"6504\",\"type\":\"SaveTool\"},{\"attributes\":{},\"id\":\"6536\",\"type\":\"UnionRenderers\"},{\"attributes\":{\"days\":[1,8,15,22]},\"id\":\"6542\",\"type\":\"DaysTicker\"},{\"attributes\":{\"num_minor_ticks\":5,\"tickers\":[{\"id\":\"6537\"},{\"id\":\"6538\"},{\"id\":\"6539\"},{\"id\":\"6540\"},{\"id\":\"6541\"},{\"id\":\"6542\"},{\"id\":\"6543\"},{\"id\":\"6544\"},{\"id\":\"6545\"},{\"id\":\"6546\"},{\"id\":\"6547\"},{\"id\":\"6548\"}]},\"id\":\"6497\",\"type\":\"DatetimeTicker\"},{\"attributes\":{\"active_drag\":\"auto\",\"active_inspect\":\"auto\",\"active_multi\":null,\"active_scroll\":\"auto\",\"active_tap\":\"auto\",\"tools\":[{\"id\":\"6486\"},{\"id\":\"6504\"},{\"id\":\"6505\"},{\"id\":\"6506\"},{\"id\":\"6507\"},{\"id\":\"6508\"}]},\"id\":\"6510\",\"type\":\"Toolbar\"},{\"attributes\":{\"axis_label\":\"Unemployment\",\"bounds\":\"auto\",\"formatter\":{\"id\":\"6528\"},\"major_label_orientation\":\"horizontal\",\"ticker\":{\"id\":\"6501\"}},\"id\":\"6500\",\"type\":\"LinearAxis\"},{\"attributes\":{\"months\":[0,2,4,6,8,10]},\"id\":\"6545\",\"type\":\"MonthsTicker\"},{\"attributes\":{\"axis\":{\"id\":\"6500\"},\"dimension\":1,\"grid_line_color\":null,\"ticker\":null},\"id\":\"6503\",\"type\":\"Grid\"},{\"attributes\":{\"days\":[1,2,3,4,5,6,7,8,9,10,11,12,13,14,15,16,17,18,19,20,21,22,23,24,25,26,27,28,29,30,31]},\"id\":\"6540\",\"type\":\"DaysTicker\"},{\"attributes\":{\"base\":24,\"mantissas\":[1,2,4,6,8,12],\"max_interval\":43200000.0,\"min_interval\":3600000.0,\"num_minor_ticks\":0},\"id\":\"6539\",\"type\":\"AdaptiveTicker\"},{\"attributes\":{\"months\":[0,6]},\"id\":\"6547\",\"type\":\"MonthsTicker\"},{\"attributes\":{\"margin\":[5,5,5,5],\"name\":\"HSpacer06634\",\"sizing_mode\":\"stretch_width\"},\"id\":\"6569\",\"type\":\"Spacer\"},{\"attributes\":{},\"id\":\"6505\",\"type\":\"PanTool\"},{\"attributes\":{},\"id\":\"6494\",\"type\":\"LinearScale\"},{\"attributes\":{},\"id\":\"6548\",\"type\":\"YearsTicker\"}],\"root_ids\":[\"6482\"]},\"title\":\"Bokeh Application\",\"version\":\"2.1.1\"}};\n",
       "  var render_items = [{\"docid\":\"92d78451-f1f0-4395-a083-ced5c6db7311\",\"root_ids\":[\"6482\"],\"roots\":{\"6482\":\"c4f7fef0-674c-4dbe-8b6e-195a30d6b1f9\"}}];\n",
       "  root.Bokeh.embed.embed_items_notebook(docs_json, render_items);\n",
       "  }\n",
       "if (root.Bokeh !== undefined) {\n",
       "    embed_document(root);\n",
       "  } else {\n",
       "    var attempts = 0;\n",
       "    var timer = setInterval(function(root) {\n",
       "      if (root.Bokeh !== undefined) {\n",
       "        clearInterval(timer);\n",
       "        embed_document(root);\n",
       "      } else if (document.readyState == \"complete\") {\n",
       "        attempts++;\n",
       "        if (attempts > 100) {\n",
       "          clearInterval(timer);\n",
       "          console.log(\"Bokeh: ERROR: Unable to run BokehJS code because BokehJS library is missing\");\n",
       "        }\n",
       "      }\n",
       "    }, 10, root)\n",
       "  }\n",
       "})(window);</script>"
      ],
      "text/plain": [
       ":Curve   [Date]   (Unemployment)"
      ]
     },
     "execution_count": 110,
     "metadata": {
      "application/vnd.holoviews_exec.v0+json": {
       "id": "6482"
      }
     },
     "output_type": "execute_result"
    }
   ],
   "source": [
    "obama_plot = obama.hvplot.line(x = 'Date', y = 'Unemployment', title = 'Unemployment During the Obama Presidency', color = 'aqua')\n",
    "obama_plot\n",
    "#obama_column =  pn.Column(obama_plot)"
   ]
  },
  {
   "cell_type": "code",
   "execution_count": 111,
   "metadata": {},
   "outputs": [
    {
     "data": {
      "text/html": [
       "<div>\n",
       "<style scoped>\n",
       "    .dataframe tbody tr th:only-of-type {\n",
       "        vertical-align: middle;\n",
       "    }\n",
       "\n",
       "    .dataframe tbody tr th {\n",
       "        vertical-align: top;\n",
       "    }\n",
       "\n",
       "    .dataframe thead th {\n",
       "        text-align: right;\n",
       "    }\n",
       "</style>\n",
       "<table border=\"1\" class=\"dataframe\">\n",
       "  <thead>\n",
       "    <tr style=\"text-align: right;\">\n",
       "      <th></th>\n",
       "      <th>Unemployment</th>\n",
       "    </tr>\n",
       "    <tr>\n",
       "      <th>Date</th>\n",
       "      <th></th>\n",
       "    </tr>\n",
       "  </thead>\n",
       "  <tbody>\n",
       "    <tr>\n",
       "      <th>2017-01-01</th>\n",
       "      <td>4.7</td>\n",
       "    </tr>\n",
       "    <tr>\n",
       "      <th>2018-01-01</th>\n",
       "      <td>4.1</td>\n",
       "    </tr>\n",
       "    <tr>\n",
       "      <th>2019-01-01</th>\n",
       "      <td>4.0</td>\n",
       "    </tr>\n",
       "    <tr>\n",
       "      <th>2020-01-01</th>\n",
       "      <td>3.6</td>\n",
       "    </tr>\n",
       "  </tbody>\n",
       "</table>\n",
       "</div>"
      ],
      "text/plain": [
       "            Unemployment\n",
       "Date                    \n",
       "2017-01-01           4.7\n",
       "2018-01-01           4.1\n",
       "2019-01-01           4.0\n",
       "2020-01-01           3.6"
      ]
     },
     "execution_count": 111,
     "metadata": {},
     "output_type": "execute_result"
    }
   ],
   "source": [
    "trump = unemployment_data.iloc[36:40]\n",
    "trump"
   ]
  },
  {
   "cell_type": "code",
   "execution_count": 112,
   "metadata": {},
   "outputs": [
    {
     "data": {
      "application/vnd.holoviews_exec.v0+json": "",
      "text/html": [
       "<div id='6671'>\n",
       "\n",
       "\n",
       "\n",
       "\n",
       "\n",
       "  <div class=\"bk-root\" id=\"0d032d08-455e-4d46-b707-3c88053e0911\" data-root-id=\"6671\"></div>\n",
       "</div>\n",
       "<script type=\"application/javascript\">(function(root) {\n",
       "  function embed_document(root) {\n",
       "  var docs_json = {\"b0dbcf03-8f59-412a-94d1-10077e28d390\":{\"roots\":{\"references\":[{\"attributes\":{\"margin\":[5,5,5,5],\"name\":\"HSpacer06810\",\"sizing_mode\":\"stretch_width\"},\"id\":\"6758\",\"type\":\"Spacer\"},{\"attributes\":{\"axis\":{\"id\":\"6685\"},\"grid_line_color\":null,\"ticker\":null},\"id\":\"6688\",\"type\":\"Grid\"},{\"attributes\":{},\"id\":\"6695\",\"type\":\"WheelZoomTool\"},{\"attributes\":{},\"id\":\"6715\",\"type\":\"DatetimeTickFormatter\"},{\"attributes\":{\"days\":[1,2,3,4,5,6,7,8,9,10,11,12,13,14,15,16,17,18,19,20,21,22,23,24,25,26,27,28,29,30,31]},\"id\":\"6729\",\"type\":\"DaysTicker\"},{\"attributes\":{\"days\":[1,8,15,22]},\"id\":\"6731\",\"type\":\"DaysTicker\"},{\"attributes\":{},\"id\":\"6683\",\"type\":\"LinearScale\"},{\"attributes\":{\"align\":null,\"below\":[{\"id\":\"6685\"}],\"center\":[{\"id\":\"6688\"},{\"id\":\"6692\"}],\"left\":[{\"id\":\"6689\"}],\"margin\":null,\"min_border_bottom\":10,\"min_border_left\":10,\"min_border_right\":10,\"min_border_top\":10,\"plot_height\":300,\"plot_width\":700,\"renderers\":[{\"id\":\"6712\"}],\"sizing_mode\":\"fixed\",\"title\":{\"id\":\"6677\"},\"toolbar\":{\"id\":\"6699\"},\"x_range\":{\"id\":\"6673\"},\"x_scale\":{\"id\":\"6681\"},\"y_range\":{\"id\":\"6674\"},\"y_scale\":{\"id\":\"6683\"}},\"id\":\"6676\",\"subtype\":\"Figure\",\"type\":\"Plot\"},{\"attributes\":{\"axis_label\":\"Unemployment\",\"bounds\":\"auto\",\"formatter\":{\"id\":\"6717\"},\"major_label_orientation\":\"horizontal\",\"ticker\":{\"id\":\"6690\"}},\"id\":\"6689\",\"type\":\"LinearAxis\"},{\"attributes\":{\"end\":4.8100000000000005,\"reset_end\":4.8100000000000005,\"reset_start\":3.49,\"start\":3.49,\"tags\":[[[\"Unemployment\",\"Unemployment\",null]]]},\"id\":\"6674\",\"type\":\"Range1d\"},{\"attributes\":{},\"id\":\"6693\",\"type\":\"SaveTool\"},{\"attributes\":{\"text\":\"Unemployment During the Trump Presidency\",\"text_color\":{\"value\":\"black\"},\"text_font_size\":{\"value\":\"12pt\"}},\"id\":\"6677\",\"type\":\"Title\"},{\"attributes\":{\"line_alpha\":0.1,\"line_color\":\"aqua\",\"line_width\":2,\"x\":{\"field\":\"Date\"},\"y\":{\"field\":\"Unemployment\"}},\"id\":\"6710\",\"type\":\"Line\"},{\"attributes\":{\"days\":[1,4,7,10,13,16,19,22,25,28]},\"id\":\"6730\",\"type\":\"DaysTicker\"},{\"attributes\":{\"months\":[0,2,4,6,8,10]},\"id\":\"6734\",\"type\":\"MonthsTicker\"},{\"attributes\":{\"base\":24,\"mantissas\":[1,2,4,6,8,12],\"max_interval\":43200000.0,\"min_interval\":3600000.0,\"num_minor_ticks\":0},\"id\":\"6728\",\"type\":\"AdaptiveTicker\"},{\"attributes\":{\"overlay\":{\"id\":\"6698\"}},\"id\":\"6696\",\"type\":\"BoxZoomTool\"},{\"attributes\":{},\"id\":\"6725\",\"type\":\"UnionRenderers\"},{\"attributes\":{},\"id\":\"6694\",\"type\":\"PanTool\"},{\"attributes\":{\"data_source\":{\"id\":\"6706\"},\"glyph\":{\"id\":\"6709\"},\"hover_glyph\":null,\"muted_glyph\":{\"id\":\"6711\"},\"nonselection_glyph\":{\"id\":\"6710\"},\"selection_glyph\":null,\"view\":{\"id\":\"6713\"}},\"id\":\"6712\",\"type\":\"GlyphRenderer\"},{\"attributes\":{\"margin\":[5,5,5,5],\"name\":\"HSpacer06809\",\"sizing_mode\":\"stretch_width\"},\"id\":\"6672\",\"type\":\"Spacer\"},{\"attributes\":{},\"id\":\"6717\",\"type\":\"BasicTickFormatter\"},{\"attributes\":{\"end\":1577836800000.0,\"reset_end\":1577836800000.0,\"reset_start\":1483228800000.0,\"start\":1483228800000.0,\"tags\":[[[\"Date\",\"Date\",null]]]},\"id\":\"6673\",\"type\":\"Range1d\"},{\"attributes\":{\"callback\":null,\"formatters\":{\"@{Date}\":\"datetime\"},\"renderers\":[{\"id\":\"6712\"}],\"tags\":[\"hv_created\"],\"tooltips\":[[\"Date\",\"@{Date}{%F %T}\"],[\"Unemployment\",\"@{Unemployment}\"]]},\"id\":\"6675\",\"type\":\"HoverTool\"},{\"attributes\":{\"line_alpha\":0.2,\"line_color\":\"aqua\",\"line_width\":2,\"x\":{\"field\":\"Date\"},\"y\":{\"field\":\"Unemployment\"}},\"id\":\"6711\",\"type\":\"Line\"},{\"attributes\":{\"line_color\":\"aqua\",\"line_width\":2,\"x\":{\"field\":\"Date\"},\"y\":{\"field\":\"Unemployment\"}},\"id\":\"6709\",\"type\":\"Line\"},{\"attributes\":{\"days\":[1,15]},\"id\":\"6732\",\"type\":\"DaysTicker\"},{\"attributes\":{\"active_drag\":\"auto\",\"active_inspect\":\"auto\",\"active_multi\":null,\"active_scroll\":\"auto\",\"active_tap\":\"auto\",\"tools\":[{\"id\":\"6675\"},{\"id\":\"6693\"},{\"id\":\"6694\"},{\"id\":\"6695\"},{\"id\":\"6696\"},{\"id\":\"6697\"}]},\"id\":\"6699\",\"type\":\"Toolbar\"},{\"attributes\":{\"axis\":{\"id\":\"6689\"},\"dimension\":1,\"grid_line_color\":null,\"ticker\":null},\"id\":\"6692\",\"type\":\"Grid\"},{\"attributes\":{\"bottom_units\":\"screen\",\"fill_alpha\":0.5,\"fill_color\":\"lightgrey\",\"left_units\":\"screen\",\"level\":\"overlay\",\"line_alpha\":1.0,\"line_color\":\"black\",\"line_dash\":[4,4],\"line_width\":2,\"right_units\":\"screen\",\"top_units\":\"screen\"},\"id\":\"6698\",\"type\":\"BoxAnnotation\"},{\"attributes\":{\"base\":60,\"mantissas\":[1,2,5,10,15,20,30],\"max_interval\":1800000.0,\"min_interval\":1000.0,\"num_minor_ticks\":0},\"id\":\"6727\",\"type\":\"AdaptiveTicker\"},{\"attributes\":{\"data\":{\"Date\":{\"__ndarray__\":\"AABANnWVdUIAAABJ8Ap2QgAAwFtrgHZCAACAbub1dkI=\",\"dtype\":\"float64\",\"order\":\"little\",\"shape\":[4]},\"Unemployment\":{\"__ndarray__\":\"zczMzMzMEkBmZmZmZmYQQAAAAAAAABBAzczMzMzMDEA=\",\"dtype\":\"float64\",\"order\":\"little\",\"shape\":[4]}},\"selected\":{\"id\":\"6707\"},\"selection_policy\":{\"id\":\"6725\"}},\"id\":\"6706\",\"type\":\"ColumnDataSource\"},{\"attributes\":{\"num_minor_ticks\":5,\"tickers\":[{\"id\":\"6726\"},{\"id\":\"6727\"},{\"id\":\"6728\"},{\"id\":\"6729\"},{\"id\":\"6730\"},{\"id\":\"6731\"},{\"id\":\"6732\"},{\"id\":\"6733\"},{\"id\":\"6734\"},{\"id\":\"6735\"},{\"id\":\"6736\"},{\"id\":\"6737\"}]},\"id\":\"6686\",\"type\":\"DatetimeTicker\"},{\"attributes\":{},\"id\":\"6707\",\"type\":\"Selection\"},{\"attributes\":{\"months\":[0,1,2,3,4,5,6,7,8,9,10,11]},\"id\":\"6733\",\"type\":\"MonthsTicker\"},{\"attributes\":{\"months\":[0,6]},\"id\":\"6736\",\"type\":\"MonthsTicker\"},{\"attributes\":{\"children\":[{\"id\":\"6672\"},{\"id\":\"6676\"},{\"id\":\"6758\"}],\"margin\":[0,0,0,0],\"name\":\"Row06805\",\"tags\":[\"embedded\"]},\"id\":\"6671\",\"type\":\"Row\"},{\"attributes\":{},\"id\":\"6737\",\"type\":\"YearsTicker\"},{\"attributes\":{\"axis_label\":\"Date\",\"bounds\":\"auto\",\"formatter\":{\"id\":\"6715\"},\"major_label_orientation\":\"horizontal\",\"ticker\":{\"id\":\"6686\"}},\"id\":\"6685\",\"type\":\"DatetimeAxis\"},{\"attributes\":{},\"id\":\"6697\",\"type\":\"ResetTool\"},{\"attributes\":{\"source\":{\"id\":\"6706\"}},\"id\":\"6713\",\"type\":\"CDSView\"},{\"attributes\":{\"mantissas\":[1,2,5],\"max_interval\":500.0,\"num_minor_ticks\":0},\"id\":\"6726\",\"type\":\"AdaptiveTicker\"},{\"attributes\":{\"months\":[0,4,8]},\"id\":\"6735\",\"type\":\"MonthsTicker\"},{\"attributes\":{},\"id\":\"6690\",\"type\":\"BasicTicker\"},{\"attributes\":{},\"id\":\"6681\",\"type\":\"LinearScale\"}],\"root_ids\":[\"6671\"]},\"title\":\"Bokeh Application\",\"version\":\"2.1.1\"}};\n",
       "  var render_items = [{\"docid\":\"b0dbcf03-8f59-412a-94d1-10077e28d390\",\"root_ids\":[\"6671\"],\"roots\":{\"6671\":\"0d032d08-455e-4d46-b707-3c88053e0911\"}}];\n",
       "  root.Bokeh.embed.embed_items_notebook(docs_json, render_items);\n",
       "  }\n",
       "if (root.Bokeh !== undefined) {\n",
       "    embed_document(root);\n",
       "  } else {\n",
       "    var attempts = 0;\n",
       "    var timer = setInterval(function(root) {\n",
       "      if (root.Bokeh !== undefined) {\n",
       "        clearInterval(timer);\n",
       "        embed_document(root);\n",
       "      } else if (document.readyState == \"complete\") {\n",
       "        attempts++;\n",
       "        if (attempts > 100) {\n",
       "          clearInterval(timer);\n",
       "          console.log(\"Bokeh: ERROR: Unable to run BokehJS code because BokehJS library is missing\");\n",
       "        }\n",
       "      }\n",
       "    }, 10, root)\n",
       "  }\n",
       "})(window);</script>"
      ],
      "text/plain": [
       ":Curve   [Date]   (Unemployment)"
      ]
     },
     "execution_count": 112,
     "metadata": {
      "application/vnd.holoviews_exec.v0+json": {
       "id": "6671"
      }
     },
     "output_type": "execute_result"
    }
   ],
   "source": [
    "trump_plot = trump.hvplot.line(x = 'Date', y = 'Unemployment', title = 'Unemployment During the Trump Presidency', color = 'aqua')\n",
    "trump_plot\n",
    "#trump_column =  pn.Column(trump_plot)"
   ]
  },
  {
   "cell_type": "code",
   "execution_count": null,
   "metadata": {},
   "outputs": [],
   "source": []
  }
 ],
 "metadata": {
  "kernelspec": {
   "display_name": "Python 3",
   "language": "python",
   "name": "python3"
  },
  "language_info": {
   "codemirror_mode": {
    "name": "ipython",
    "version": 3
   },
   "file_extension": ".py",
   "mimetype": "text/x-python",
   "name": "python",
   "nbconvert_exporter": "python",
   "pygments_lexer": "ipython3",
   "version": "3.7.7"
  }
 },
 "nbformat": 4,
 "nbformat_minor": 4
}
