{
 "metadata": {
  "language_info": {
   "codemirror_mode": {
    "name": "ipython",
    "version": 3
   },
   "file_extension": ".py",
   "mimetype": "text/x-python",
   "name": "python",
   "nbconvert_exporter": "python",
   "pygments_lexer": "ipython3",
   "version": "3.7.6-final"
  },
  "orig_nbformat": 2,
  "kernelspec": {
   "name": "Python 3.7.6 64-bit ('base': conda)",
   "display_name": "Python 3.7.6 64-bit ('base': conda)",
   "metadata": {
    "interpreter": {
     "hash": "d06b0c8c8cf6c871b1da3481221a77fe51ff639224696bbee21a13df1dea8ab0"
    }
   }
  }
 },
 "nbformat": 4,
 "nbformat_minor": 2,
 "cells": [
  {
   "cell_type": "code",
   "execution_count": 199,
   "metadata": {},
   "outputs": [],
   "source": [
    "import pandas as pd\n",
    "import panel as pn\n",
    "from pathlib import Path\n",
    "import hvplot.pandas"
   ]
  },
  {
   "cell_type": "code",
   "execution_count": 200,
   "metadata": {},
   "outputs": [],
   "source": [
    "real_gdp_path = Path(\"data/real_gdp.csv\")\n",
    "real_gdp      = pd.read_csv(real_gdp_path, index_col='DATE', parse_dates=True, infer_datetime_format=True)\n",
    "real_gdp      = real_gdp.rename(columns={\"GDPC1\": \"Billions of Dollars\"})\n",
    "\n",
    "unemployment_path = Path(\"data/unemployment_rate.csv\")\n",
    "unemployment_data = pd.read_csv(unemployment_path, index_col=\"Date\", infer_datetime_format=True, parse_dates=True)\n",
    "\n",
    "us_trade = pd.read_csv(\"data/us_balance_trade.csv\", header = 1)\n",
    "us_trade [\"% of GDP\"] = us_trade['% of GDP'].replace('%','',regex = True)\n",
    "us_trade [\"Billions of US $\"] = us_trade['Billions of US $'].str.replace('$','',regex = True)\n",
    "us_trade [\"Billions of US $\"] = us_trade['Billions of US $'].replace('B','',regex = True)\n",
    "us_trade = us_trade.drop(\"% of GDP\", 1).set_index(\"Year\")\n",
    "us_trade = us_trade[\"Billions of US $\"].astype(float).round(0).astype(int)"
   ]
  },
  {
   "cell_type": "code",
   "execution_count": 209,
   "metadata": {},
   "outputs": [
    {
     "output_type": "execute_result",
     "data": {
      "text/plain": [
       "Year\n",
       "2018   -638\n",
       "2017   -575\n",
       "2016   -519\n",
       "2015   -520\n",
       "2014   -508\n",
       "2013   -491\n",
       "2012   -569\n",
       "2011   -579\n",
       "2010   -514\n",
       "2009   -396\n",
       "2008   -723\n",
       "2007   -718\n",
       "2006   -771\n",
       "2005   -721\n",
       "2004   -619\n",
       "2003   -503\n",
       "2002   -425\n",
       "2001   -368\n",
       "2000   -375\n",
       "1999   -256\n",
       "1998   -163\n",
       "1997   -102\n",
       "1996    -96\n",
       "1995    -90\n",
       "1994    -92\n",
       "1993    -65\n",
       "1992    -35\n",
       "1991    -29\n",
       "1990    -78\n",
       "1989    -87\n",
       "1988   -109\n",
       "1987   -145\n",
       "1986   -132\n",
       "1985   -114\n",
       "1984   -103\n",
       "1983    -52\n",
       "1982    -20\n",
       "1981    -13\n",
       "Name: Billions of US $, dtype: int32"
      ]
     },
     "metadata": {},
     "execution_count": 209
    }
   ],
   "source": [
    "real_gdp_all      = real_gdp.iloc[::-1]\n",
    "real_gdp          = real_gdp.iloc[0:160:4]\n",
    "\n",
    "unemployment_data = unemployment_data.iloc[0:476:12]\n",
    "\n",
    "us_trade          = us_trade.iloc[0:38]"
   ]
  },
  {
   "cell_type": "code",
   "execution_count": 202,
   "metadata": {},
   "outputs": [],
   "source": [
    "real_gdp_plot     = real_gdp_all.iloc[0:160:4].hvplot.line(title=\"Real GDP 1981 - 2020\", xlabel=\"Date\")\n",
    "\n",
    "unemployment_plot = unemployment_data.hvplot.line(x = 'Date', y = 'Unemployment', title = 'Unemployment per Year', color = 'aqua')\n",
    "\n",
    "us_trade_plot     = us_trade.iloc[0:38]"
   ]
  },
  {
   "cell_type": "code",
   "execution_count": 203,
   "metadata": {},
   "outputs": [],
   "source": [
    "reagan_rgdp         = real_gdp_all.iloc[32:40].hvplot.line(title=\"Real GDP 1981 - 1988\")\n",
    "reagan_unemployment = unemployment_data.iloc[0:8].hvplot.line(x = 'Date', y = 'Unemployment', title = 'Unemployment During the Reagan Presidency', color = 'aqua')"
   ]
  },
  {
   "cell_type": "code",
   "execution_count": 204,
   "metadata": {},
   "outputs": [],
   "source": [
    "bush_h_rgdp         = real_gdp_all.iloc[28:32].hvplot.line(title=\"Real GDP 1989 - 1992\")\n",
    "bush_h_unemployment = unemployment_data.iloc[8:12].hvplot.line(x = 'Date', y = 'Unemployment', title = 'Unemployment During the Bush Presidency', color = 'aqua')"
   ]
  },
  {
   "cell_type": "code",
   "execution_count": 205,
   "metadata": {},
   "outputs": [],
   "source": [
    "clinton_rgdp         = real_gdp_all.iloc[20:28].hvplot.line(title=\"Real GDP 1993 - 2000\")\n",
    "clinton_unemployment = unemployment_data.iloc[12:20].hvplot.line(x = 'Date', y = 'Unemployment', title = 'Unemployment During the Clinton Presidency', color = 'aqua')"
   ]
  },
  {
   "cell_type": "code",
   "execution_count": 206,
   "metadata": {},
   "outputs": [],
   "source": [
    "bush_w_rgdp         = real_gdp_all.iloc[12:20].hvplot.line(title=\"Real GDP 2001 - 2008\")\n",
    "bush_w_unemployment = unemployment_data.iloc[20:28].hvplot.line(x = 'Date', y = 'Unemployment', title = 'Unemployment During the G.W. Bush Presidency', color = 'aqua')"
   ]
  },
  {
   "cell_type": "code",
   "execution_count": 207,
   "metadata": {},
   "outputs": [],
   "source": [
    "obama_rgdp         = real_gdp_all.iloc[4:12].hvplot.line(title=\"Real GDP 2009 - 2016\")\n",
    "obama_unemployment = unemployment_data.iloc[28:36].hvplot.line(x = 'Date', y = 'Unemployment', title = 'Unemployment During the Obama Presidency', color = 'aqua')"
   ]
  },
  {
   "cell_type": "code",
   "execution_count": 208,
   "metadata": {},
   "outputs": [
    {
     "output_type": "execute_result",
     "data": {
      "text/html": "<div id='2563'>\n\n\n\n\n\n  <div class=\"bk-root\" id=\"8a8cc92c-0b4d-47ae-a4ff-3d22d9cdc51a\" data-root-id=\"2563\"></div>\n</div>\n<script type=\"application/javascript\">(function(root) {\n  function embed_document(root) {\n  var docs_json = {\"05dcce2c-2494-4748-be66-47e1176d6ceb\":{\"roots\":{\"references\":[{\"attributes\":{},\"id\":\"2586\",\"type\":\"PanTool\"},{\"attributes\":{\"margin\":[5,5,5,5],\"name\":\"HSpacer20832\",\"sizing_mode\":\"stretch_width\"},\"id\":\"2564\",\"type\":\"Spacer\"},{\"attributes\":{},\"id\":\"2573\",\"type\":\"LinearScale\"},{\"attributes\":{\"active_drag\":\"auto\",\"active_inspect\":\"auto\",\"active_multi\":null,\"active_scroll\":\"auto\",\"active_tap\":\"auto\",\"tools\":[{\"id\":\"2567\"},{\"id\":\"2585\"},{\"id\":\"2586\"},{\"id\":\"2587\"},{\"id\":\"2588\"},{\"id\":\"2589\"}]},\"id\":\"2591\",\"type\":\"Toolbar\"},{\"attributes\":{\"end\":-568.7,\"reset_end\":-568.7,\"reset_start\":-644.3,\"start\":-644.3,\"tags\":[[[\"Billions of US $\",\"Billions of US $\",null]]]},\"id\":\"2566\",\"type\":\"Range1d\"},{\"attributes\":{\"data\":{\"Billions of US $\":{\"__ndarray__\":\"gv3//8H9//8=\",\"dtype\":\"int32\",\"order\":\"little\",\"shape\":[2]},\"Billions_of_US\":{\"__ndarray__\":\"gv3//8H9//8=\",\"dtype\":\"int32\",\"order\":\"little\",\"shape\":[2]},\"Year\":[2018,2017]},\"selected\":{\"id\":\"2599\"},\"selection_policy\":{\"id\":\"2615\"}},\"id\":\"2598\",\"type\":\"ColumnDataSource\"},{\"attributes\":{},\"id\":\"2599\",\"type\":\"Selection\"},{\"attributes\":{\"end\":2018.0,\"reset_end\":2018.0,\"reset_start\":2017.0,\"start\":2017.0,\"tags\":[[[\"Year\",\"Year\",null]]]},\"id\":\"2565\",\"type\":\"Range1d\"},{\"attributes\":{\"source\":{\"id\":\"2598\"}},\"id\":\"2605\",\"type\":\"CDSView\"},{\"attributes\":{},\"id\":\"2607\",\"type\":\"BasicTickFormatter\"},{\"attributes\":{},\"id\":\"2587\",\"type\":\"WheelZoomTool\"},{\"attributes\":{},\"id\":\"2615\",\"type\":\"UnionRenderers\"},{\"attributes\":{},\"id\":\"2585\",\"type\":\"SaveTool\"},{\"attributes\":{\"children\":[{\"id\":\"2564\"},{\"id\":\"2568\"},{\"id\":\"2626\"}],\"margin\":[0,0,0,0],\"name\":\"Row20828\",\"tags\":[\"embedded\"]},\"id\":\"2563\",\"type\":\"Row\"},{\"attributes\":{},\"id\":\"2582\",\"type\":\"BasicTicker\"},{\"attributes\":{},\"id\":\"2589\",\"type\":\"ResetTool\"},{\"attributes\":{\"axis\":{\"id\":\"2581\"},\"dimension\":1,\"grid_line_color\":null,\"ticker\":null},\"id\":\"2584\",\"type\":\"Grid\"},{\"attributes\":{\"axis_label\":\"Year\",\"bounds\":\"auto\",\"formatter\":{\"id\":\"2607\"},\"major_label_orientation\":\"horizontal\",\"ticker\":{\"id\":\"2578\"}},\"id\":\"2577\",\"type\":\"LinearAxis\"},{\"attributes\":{\"line_alpha\":0.2,\"line_color\":\"#1f77b3\",\"line_width\":2,\"x\":{\"field\":\"Year\"},\"y\":{\"field\":\"Billions of US $\"}},\"id\":\"2603\",\"type\":\"Line\"},{\"attributes\":{},\"id\":\"2578\",\"type\":\"BasicTicker\"},{\"attributes\":{\"line_color\":\"#1f77b3\",\"line_width\":2,\"x\":{\"field\":\"Year\"},\"y\":{\"field\":\"Billions of US $\"}},\"id\":\"2601\",\"type\":\"Line\"},{\"attributes\":{\"axis_label\":\"\",\"bounds\":\"auto\",\"formatter\":{\"id\":\"2609\"},\"major_label_orientation\":\"horizontal\",\"ticker\":{\"id\":\"2582\"}},\"id\":\"2581\",\"type\":\"LinearAxis\"},{\"attributes\":{},\"id\":\"2609\",\"type\":\"BasicTickFormatter\"},{\"attributes\":{\"align\":null,\"below\":[{\"id\":\"2577\"}],\"center\":[{\"id\":\"2580\"},{\"id\":\"2584\"}],\"left\":[{\"id\":\"2581\"}],\"margin\":null,\"min_border_bottom\":10,\"min_border_left\":10,\"min_border_right\":10,\"min_border_top\":10,\"plot_height\":300,\"plot_width\":700,\"renderers\":[{\"id\":\"2604\"}],\"sizing_mode\":\"fixed\",\"title\":{\"id\":\"2569\"},\"toolbar\":{\"id\":\"2591\"},\"x_range\":{\"id\":\"2565\"},\"x_scale\":{\"id\":\"2573\"},\"y_range\":{\"id\":\"2566\"},\"y_scale\":{\"id\":\"2575\"}},\"id\":\"2568\",\"subtype\":\"Figure\",\"type\":\"Plot\"},{\"attributes\":{\"axis\":{\"id\":\"2577\"},\"grid_line_color\":null,\"ticker\":null},\"id\":\"2580\",\"type\":\"Grid\"},{\"attributes\":{\"overlay\":{\"id\":\"2590\"}},\"id\":\"2588\",\"type\":\"BoxZoomTool\"},{\"attributes\":{\"text\":\"Pres Trump Balance Trade\",\"text_color\":{\"value\":\"black\"},\"text_font_size\":{\"value\":\"12pt\"}},\"id\":\"2569\",\"type\":\"Title\"},{\"attributes\":{\"margin\":[5,5,5,5],\"name\":\"HSpacer20833\",\"sizing_mode\":\"stretch_width\"},\"id\":\"2626\",\"type\":\"Spacer\"},{\"attributes\":{\"line_alpha\":0.1,\"line_color\":\"#1f77b3\",\"line_width\":2,\"x\":{\"field\":\"Year\"},\"y\":{\"field\":\"Billions of US $\"}},\"id\":\"2602\",\"type\":\"Line\"},{\"attributes\":{\"callback\":null,\"renderers\":[{\"id\":\"2604\"}],\"tags\":[\"hv_created\"],\"tooltips\":[[\"Year\",\"@{Year}\"],[\"Billions of US $\",\"@{Billions_of_US}\"]]},\"id\":\"2567\",\"type\":\"HoverTool\"},{\"attributes\":{},\"id\":\"2575\",\"type\":\"LinearScale\"},{\"attributes\":{\"bottom_units\":\"screen\",\"fill_alpha\":0.5,\"fill_color\":\"lightgrey\",\"left_units\":\"screen\",\"level\":\"overlay\",\"line_alpha\":1.0,\"line_color\":\"black\",\"line_dash\":[4,4],\"line_width\":2,\"right_units\":\"screen\",\"top_units\":\"screen\"},\"id\":\"2590\",\"type\":\"BoxAnnotation\"},{\"attributes\":{\"data_source\":{\"id\":\"2598\"},\"glyph\":{\"id\":\"2601\"},\"hover_glyph\":null,\"muted_glyph\":{\"id\":\"2603\"},\"nonselection_glyph\":{\"id\":\"2602\"},\"selection_glyph\":null,\"view\":{\"id\":\"2605\"}},\"id\":\"2604\",\"type\":\"GlyphRenderer\"}],\"root_ids\":[\"2563\"]},\"title\":\"Bokeh Application\",\"version\":\"2.2.1\"}};\n  var render_items = [{\"docid\":\"05dcce2c-2494-4748-be66-47e1176d6ceb\",\"root_ids\":[\"2563\"],\"roots\":{\"2563\":\"8a8cc92c-0b4d-47ae-a4ff-3d22d9cdc51a\"}}];\n  root.Bokeh.embed.embed_items_notebook(docs_json, render_items);\n  }\nif (root.Bokeh !== undefined) {\n    embed_document(root);\n  } else {\n    var attempts = 0;\n    var timer = setInterval(function(root) {\n      if (root.Bokeh !== undefined) {\n        clearInterval(timer);\n        embed_document(root);\n      } else if (document.readyState == \"complete\") {\n        attempts++;\n        if (attempts > 100) {\n          clearInterval(timer);\n          console.log(\"Bokeh: ERROR: Unable to run BokehJS code because BokehJS library is missing\");\n        }\n      }\n    }, 10, root)\n  }\n})(window);</script>",
      "application/vnd.holoviews_exec.v0+json": "",
      "text/plain": [
       ":Curve   [Year]   (Billions of US $)"
      ]
     },
     "metadata": {
      "application/vnd.holoviews_exec.v0+json": {
       "id": "2563"
      }
     },
     "execution_count": 208
    }
   ],
   "source": [
    "trump_rgdp         = real_gdp_all.iloc[0:4].hvplot.line(title=\"Real GDP 2017 - 2020\")\n",
    "trump_unemployment = unemployment_data.iloc[36:40].hvplot.line(x = 'Date', y = 'Unemployment', title = 'Unemployment During the Trump Presidency', color = 'aqua')\n",
    "trump_trade        = us_trade.iloc[0:2].hvplot(x= 'Year', y = 'Billions of US $', title = 'Pres Trump Balance Trade')\n",
    "trump_trade"
   ]
  },
  {
   "cell_type": "code",
   "execution_count": null,
   "metadata": {},
   "outputs": [],
   "source": []
  }
 ]
}